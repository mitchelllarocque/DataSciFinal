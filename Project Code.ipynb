{
 "cells": [
  {
   "cell_type": "code",
   "execution_count": 1,
   "metadata": {},
   "outputs": [],
   "source": [
    "import numpy as np\n",
    "import pandas as pd\n",
    "import warnings\n",
    "import matplotlib.pyplot as plt\n",
    "import scipy.stats as stats\n",
    "import statsmodels.api as sm\n",
    "from scipy.spatial import distance\n",
    "from sklearn.ensemble import IsolationForest\n",
    "\n",
    "\n",
    "\n",
    "warnings.filterwarnings('ignore')"
   ]
  },
  {
   "cell_type": "markdown",
   "metadata": {},
   "source": [
    "### Description of Data:\n",
    "For our data sets we used data from basketball-reference.com to get a list of the 75th anniversary team as well as the last three seasons for all NBA players. While the 75th anniversary team already came in a career format, to get a list of the players under 25 we took the last three seasons, and filtered it to include weighted averages (by games played) for all stats that appear in the 75th anniversary team data. So now, we have a list of the career stats from 75th anniversary team compared with the stats of all players under 25 in the past 3 seasons. We took the last 3 seasons to analyze the top young players in the league because that gives a good metric of where these players will be headed in their career. If we go back too far, we run into problems like players stats can be skewed by low numbers in their early career."
   ]
  },
  {
   "cell_type": "code",
   "execution_count": 2,
   "metadata": {},
   "outputs": [],
   "source": [
    "data75=pd.read_csv('../data/75thTeam.csv')\n",
    "data75['Player'] = data75['Player'].str.replace(r'\\\\.*', '')\n",
    "data75['WS/48'] = data75['WS/48'].str.replace(r'\\\\.*', '').astype('float')\n",
    "data75 = data75.drop([76])\n",
    "\n",
    "data2021=pd.read_csv('../data/2021.csv')\n",
    "data2021Advanced=pd.read_csv('../data/2021A.csv')\n",
    "data2020=pd.read_csv('../data/2020.csv')\n",
    "data2020Advanced=pd.read_csv('../data/2020A.csv')\n",
    "data2019=pd.read_csv('../data/2019.csv')\n",
    "data2019Advanced=pd.read_csv('../data/2019A.csv')\n",
    "\n",
    "\n",
    "under25 = data2021[data2021['Age']<=25]\n",
    "under25['Player'] = under25['Player'].str.replace(r'\\\\.*', '')\n",
    "under25['PTS'] = under25['PTS'].str.replace(r'\\\\.*', '').astype('float')\n",
    "under25 = under25.join(data2021Advanced['WS'])\n",
    "under25 = under25.join(data2021Advanced['WS/48'])\n",
    "under25=under25.drop_duplicates(subset=['Player'])\n",
    "under25.head(10)\n",
    "\n",
    "data2020 = data2020.join(data2020Advanced['WS'])\n",
    "data2020 = data2020.join(data2020Advanced['WS/48'])\n",
    "data2020['Player'] = data2020['Player'].str.replace(r'\\\\.*', '')\n",
    "data2020['PTS'] = data2020['PTS'].str.replace(r'\\\\.*', '').astype('float')\n",
    "data2020=data2020.drop_duplicates(subset=['Player'])\n",
    "\n",
    "data2019 = data2019.join(data2019Advanced['WS'])\n",
    "data2019 = data2019.join(data2019Advanced['WS/48'])\n",
    "data2019['Player'] = data2019['Player'].str.replace(r'\\\\.*', '')\n",
    "data2019['PTS'] = data2019['PTS'].str.replace(r'\\\\.*', '').astype('float')\n",
    "data2019=data2019.drop_duplicates(subset=['Player'])\n",
    "\n",
    "under25players = under25[\"Player\"].unique()\n",
    "\n",
    "datasets = [data2020,data2019]\n",
    "\n",
    "for i in range(len(datasets)):\n",
    "    for index,row in datasets[i].iterrows():\n",
    "        if(row[\"Player\"] in under25players):\n",
    "            WS = row[\"WS\"]\n",
    "            GP = row[\"G\"]\n",
    "            MP = row[\"MP\"]\n",
    "            PTS = row[\"PTS\"]\n",
    "            TRB = row[\"TRB\"]\n",
    "            AST = row[\"AST\"]\n",
    "            STL = row[\"STL\"]\n",
    "            BLK = row[\"BLK\"]\n",
    "            TPA = row[\"3PA\"]\n",
    "            TPP = row[\"3P%\"]\n",
    "            FGA = row[\"FGA\"]\n",
    "            FGP = row[\"FG%\"]\n",
    "            FTA = row[\"FTA\"]\n",
    "            FTP = row[\"FT%\"]\n",
    "\n",
    "            WS2 = under25[under25['Player']==row[\"Player\"]][\"WS\"]\n",
    "            GP2 = under25[under25['Player']==row[\"Player\"]][\"G\"]\n",
    "            MP2 = under25[under25['Player']==row[\"Player\"]][\"MP\"]\n",
    "            PTS2 = under25[under25['Player']==row[\"Player\"]][\"PTS\"]\n",
    "            TRB2 = under25[under25['Player']==row[\"Player\"]][\"TRB\"]\n",
    "            AST2 = under25[under25['Player']==row[\"Player\"]][\"AST\"]\n",
    "            STL2 = under25[under25['Player']==row[\"Player\"]][\"STL\"]\n",
    "            BLK2 = under25[under25['Player']==row[\"Player\"]][\"BLK\"]\n",
    "            TPA2 = under25[under25['Player']==row[\"Player\"]][\"3PA\"]\n",
    "            TPP2 = under25[under25['Player']==row[\"Player\"]][\"3P%\"]\n",
    "            FGA2 = under25[under25['Player']==row[\"Player\"]][\"FG\"]\n",
    "            FGP2 = under25[under25['Player']==row[\"Player\"]][\"FG%\"]\n",
    "            FTA2 = under25[under25['Player']==row[\"Player\"]][\"FT\"]\n",
    "            FTP2 = under25[under25['Player']==row[\"Player\"]][\"FT%\"]\n",
    "\n",
    "            #newWS48 = (((WS+WS2)/((GP*MP)+(GP2*MP2)))*48)\n",
    "            #print(newWS48)\n",
    "            under25.at[under25.index[under25['Player'] == row[\"Player\"]].tolist()[0],'WS/48'] = (((WS+WS2)/((GP*MP)+(GP2*MP2)))*48)\n",
    "            #print(PTS,GP,PTS2,GP2, ((PTS*GP)+(PTS2*GP2))/(GP+GP2))\n",
    "            under25.at[under25.index[under25['Player'] == row[\"Player\"]].tolist()[0],'PTS'] = ((PTS*GP)+(PTS2*GP2))/(GP+GP2)\n",
    "            under25.at[under25.index[under25['Player'] == row[\"Player\"]].tolist()[0],'MP'] = ((MP*GP)+(MP2*GP2))/(GP+GP2)\n",
    "            under25.at[under25.index[under25['Player'] == row[\"Player\"]].tolist()[0],'TRB'] = ((TRB*GP)+(TRB2*GP2))/(GP+GP2)\n",
    "            under25.at[under25.index[under25['Player'] == row[\"Player\"]].tolist()[0],'MP'] = ((MP*GP)+(MP2*GP2))/(GP+GP2)\n",
    "            under25.at[under25.index[under25['Player'] == row[\"Player\"]].tolist()[0],'AST'] = ((AST*GP)+(AST2*GP2))/(GP+GP2)\n",
    "            under25.at[under25.index[under25['Player'] == row[\"Player\"]].tolist()[0],'STL'] = ((STL*GP)+(STL2*GP2))/(GP+GP2)\n",
    "            under25.at[under25.index[under25['Player'] == row[\"Player\"]].tolist()[0],'BLK'] = ((BLK*GP)+(BLK2*GP2))/(GP+GP2)\n",
    "\n",
    "            total_threes = TPA*GP*TPP\n",
    "            total_threes2 = TPA2*GP2*TPP2\n",
    "            TTM = total_threes + total_threes2\n",
    "            newTPP = TTM / (TPA*GP+TPA2*GP2)\n",
    "\n",
    "            total_fg = FGA*GP*FGP\n",
    "            total_fg2 = FGA2*GP2*FGP2\n",
    "            TFGM = total_fg + total_fg2\n",
    "            newFGP = TFGM / (FGA*GP+FGA2*GP2)\n",
    "\n",
    "            total_ft = FTA*GP*FTP\n",
    "            total_ft2 = FTA2*GP2*FTP2\n",
    "            TFTM = total_ft + total_ft2\n",
    "            newFTP = TFTM / (FTA*GP+FTA2*GP2)\n",
    "\n",
    "            under25.at[under25.index[under25['Player'] == row[\"Player\"]].tolist()[0],'3P%'] = newTPP\n",
    "            under25.at[under25.index[under25['Player'] == row[\"Player\"]].tolist()[0],'FG%'] = newFGP\n",
    "            under25.at[under25.index[under25['Player'] == row[\"Player\"]].tolist()[0],'FT%'] = newFTP\n",
    "\n",
    "            under25.at[under25.index[under25['Player'] == row[\"Player\"]].tolist()[0],'3PA'] = ((TPA*GP)+(TPA2*GP2))/(GP+GP2)\n",
    "            under25.at[under25.index[under25['Player'] == row[\"Player\"]].tolist()[0],'FGA'] = ((FGA*GP)+(FGA2*GP2))/(GP+GP2)\n",
    "            under25.at[under25.index[under25['Player'] == row[\"Player\"]].tolist()[0],'FTA'] = ((FTA*GP)+(FTA2*GP2))/(GP+GP2)\n",
    "            under25.at[under25.index[under25['Player'] == row[\"Player\"]].tolist()[0],'WS'] = WS + WS2\n",
    "            under25.at[under25.index[under25['Player'] == row[\"Player\"]].tolist()[0],'G'] = GP + GP2\n",
    "\n",
    "under25= under25[under25['MP']>=8]\n",
    "under25= under25[under25['G']>=5]"
   ]
  },
  {
   "cell_type": "code",
   "execution_count": 3,
   "metadata": {},
   "outputs": [
    {
     "data": {
      "text/html": [
       "<div>\n",
       "<style scoped>\n",
       "    .dataframe tbody tr th:only-of-type {\n",
       "        vertical-align: middle;\n",
       "    }\n",
       "\n",
       "    .dataframe tbody tr th {\n",
       "        vertical-align: top;\n",
       "    }\n",
       "\n",
       "    .dataframe thead th {\n",
       "        text-align: right;\n",
       "    }\n",
       "</style>\n",
       "<table border=\"1\" class=\"dataframe\">\n",
       "  <thead>\n",
       "    <tr style=\"text-align: right;\">\n",
       "      <th></th>\n",
       "      <th>Rk</th>\n",
       "      <th>Player</th>\n",
       "      <th>Pos</th>\n",
       "      <th>Age</th>\n",
       "      <th>Tm</th>\n",
       "      <th>G</th>\n",
       "      <th>GS</th>\n",
       "      <th>MP</th>\n",
       "      <th>FG</th>\n",
       "      <th>FGA</th>\n",
       "      <th>...</th>\n",
       "      <th>DRB</th>\n",
       "      <th>TRB</th>\n",
       "      <th>AST</th>\n",
       "      <th>STL</th>\n",
       "      <th>BLK</th>\n",
       "      <th>TOV</th>\n",
       "      <th>PF</th>\n",
       "      <th>PTS</th>\n",
       "      <th>WS</th>\n",
       "      <th>WS/48</th>\n",
       "    </tr>\n",
       "  </thead>\n",
       "  <tbody>\n",
       "    <tr>\n",
       "      <th>343</th>\n",
       "      <td>262</td>\n",
       "      <td>Nikola Joki</td>\n",
       "      <td>C</td>\n",
       "      <td>25.0</td>\n",
       "      <td>DEN</td>\n",
       "      <td>225.0</td>\n",
       "      <td>72.0</td>\n",
       "      <td>32.583111</td>\n",
       "      <td>10.2</td>\n",
       "      <td>11.942222</td>\n",
       "      <td>...</td>\n",
       "      <td>8.0</td>\n",
       "      <td>10.443111</td>\n",
       "      <td>7.522667</td>\n",
       "      <td>1.303111</td>\n",
       "      <td>0.667556</td>\n",
       "      <td>3.1</td>\n",
       "      <td>2.7</td>\n",
       "      <td>22.051111</td>\n",
       "      <td>37.2</td>\n",
       "      <td>0.243562</td>\n",
       "    </tr>\n",
       "    <tr>\n",
       "      <th>3</th>\n",
       "      <td>4</td>\n",
       "      <td>Bam Adebayo</td>\n",
       "      <td>C</td>\n",
       "      <td>23.0</td>\n",
       "      <td>MIA</td>\n",
       "      <td>218.0</td>\n",
       "      <td>64.0</td>\n",
       "      <td>29.696330</td>\n",
       "      <td>7.1</td>\n",
       "      <td>6.648624</td>\n",
       "      <td>...</td>\n",
       "      <td>6.7</td>\n",
       "      <td>8.756881</td>\n",
       "      <td>4.097248</td>\n",
       "      <td>1.054128</td>\n",
       "      <td>1.023853</td>\n",
       "      <td>2.6</td>\n",
       "      <td>2.3</td>\n",
       "      <td>14.088991</td>\n",
       "      <td>24.1</td>\n",
       "      <td>0.178689</td>\n",
       "    </tr>\n",
       "    <tr>\n",
       "      <th>10</th>\n",
       "      <td>9</td>\n",
       "      <td>Jarrett Allen</td>\n",
       "      <td>C</td>\n",
       "      <td>22.0</td>\n",
       "      <td>TOT</td>\n",
       "      <td>213.0</td>\n",
       "      <td>45.0</td>\n",
       "      <td>27.304225</td>\n",
       "      <td>4.7</td>\n",
       "      <td>5.601408</td>\n",
       "      <td>...</td>\n",
       "      <td>6.9</td>\n",
       "      <td>9.267606</td>\n",
       "      <td>1.554460</td>\n",
       "      <td>0.532864</td>\n",
       "      <td>1.404695</td>\n",
       "      <td>1.6</td>\n",
       "      <td>1.5</td>\n",
       "      <td>11.527700</td>\n",
       "      <td>22.2</td>\n",
       "      <td>0.183225</td>\n",
       "    </tr>\n",
       "    <tr>\n",
       "      <th>577</th>\n",
       "      <td>444</td>\n",
       "      <td>Domantas Sabonis</td>\n",
       "      <td>PF</td>\n",
       "      <td>24.0</td>\n",
       "      <td>IND</td>\n",
       "      <td>198.0</td>\n",
       "      <td>62.0</td>\n",
       "      <td>31.438384</td>\n",
       "      <td>7.8</td>\n",
       "      <td>8.435354</td>\n",
       "      <td>...</td>\n",
       "      <td>9.5</td>\n",
       "      <td>11.116162</td>\n",
       "      <td>4.747475</td>\n",
       "      <td>0.850505</td>\n",
       "      <td>0.462626</td>\n",
       "      <td>3.4</td>\n",
       "      <td>3.3</td>\n",
       "      <td>17.419192</td>\n",
       "      <td>22.0</td>\n",
       "      <td>0.169644</td>\n",
       "    </tr>\n",
       "    <tr>\n",
       "      <th>171</th>\n",
       "      <td>130</td>\n",
       "      <td>Luka Don</td>\n",
       "      <td>PG</td>\n",
       "      <td>21.0</td>\n",
       "      <td>DAL</td>\n",
       "      <td>199.0</td>\n",
       "      <td>66.0</td>\n",
       "      <td>33.325628</td>\n",
       "      <td>9.8</td>\n",
       "      <td>12.224121</td>\n",
       "      <td>...</td>\n",
       "      <td>7.2</td>\n",
       "      <td>8.356784</td>\n",
       "      <td>7.720603</td>\n",
       "      <td>1.036181</td>\n",
       "      <td>0.335678</td>\n",
       "      <td>4.3</td>\n",
       "      <td>2.3</td>\n",
       "      <td>25.685427</td>\n",
       "      <td>21.4</td>\n",
       "      <td>0.154890</td>\n",
       "    </tr>\n",
       "  </tbody>\n",
       "</table>\n",
       "<p>5 rows × 32 columns</p>\n",
       "</div>"
      ],
      "text/plain": [
       "      Rk            Player Pos   Age   Tm      G    GS         MP    FG  \\\n",
       "343  262       Nikola Joki   C  25.0  DEN  225.0  72.0  32.583111  10.2   \n",
       "3      4       Bam Adebayo   C  23.0  MIA  218.0  64.0  29.696330   7.1   \n",
       "10     9     Jarrett Allen   C  22.0  TOT  213.0  45.0  27.304225   4.7   \n",
       "577  444  Domantas Sabonis  PF  24.0  IND  198.0  62.0  31.438384   7.8   \n",
       "171  130          Luka Don  PG  21.0  DAL  199.0  66.0  33.325628   9.8   \n",
       "\n",
       "           FGA  ...  DRB        TRB       AST       STL       BLK  TOV   PF  \\\n",
       "343  11.942222  ...  8.0  10.443111  7.522667  1.303111  0.667556  3.1  2.7   \n",
       "3     6.648624  ...  6.7   8.756881  4.097248  1.054128  1.023853  2.6  2.3   \n",
       "10    5.601408  ...  6.9   9.267606  1.554460  0.532864  1.404695  1.6  1.5   \n",
       "577   8.435354  ...  9.5  11.116162  4.747475  0.850505  0.462626  3.4  3.3   \n",
       "171  12.224121  ...  7.2   8.356784  7.720603  1.036181  0.335678  4.3  2.3   \n",
       "\n",
       "           PTS    WS     WS/48  \n",
       "343  22.051111  37.2  0.243562  \n",
       "3    14.088991  24.1  0.178689  \n",
       "10   11.527700  22.2  0.183225  \n",
       "577  17.419192  22.0  0.169644  \n",
       "171  25.685427  21.4  0.154890  \n",
       "\n",
       "[5 rows x 32 columns]"
      ]
     },
     "execution_count": 3,
     "metadata": {},
     "output_type": "execute_result"
    }
   ],
   "source": [
    "top5WS = under25.nlargest(5, ['WS'])\n",
    "top5WS"
   ]
  },
  {
   "cell_type": "markdown",
   "metadata": {},
   "source": [
    "We have printed out the top 10 players with the highest win shares. We used win shares instead of win shares per 48 as total win shares gives at least some indicator of volume of games played. This is a good preliminary indicator of some of the players that we might see being among the legends after our full analysis. Some of the players we hypothesized would be in that category appear here: Nikola Jokic, Luka Doncic, Jayson Tatum. Some other players like Karl-Anthony Towns and Domantas Sabonis also appear here and they are some of the best young players in the leauge."
   ]
  },
  {
   "cell_type": "code",
   "execution_count": 4,
   "metadata": {},
   "outputs": [
    {
     "name": "stdout",
     "output_type": "stream",
     "text": [
      "4.280722891566265\n"
     ]
    }
   ],
   "source": [
    "print(under25[\"WS\"].mean())"
   ]
  },
  {
   "cell_type": "markdown",
   "metadata": {},
   "source": [
    "Also printing out the average value in the win shares column can give us an idea of how large this statistic is for the top 5 players "
   ]
  },
  {
   "cell_type": "code",
   "execution_count": 5,
   "metadata": {},
   "outputs": [
    {
     "data": {
      "text/html": [
       "<div>\n",
       "<style scoped>\n",
       "    .dataframe tbody tr th:only-of-type {\n",
       "        vertical-align: middle;\n",
       "    }\n",
       "\n",
       "    .dataframe tbody tr th {\n",
       "        vertical-align: top;\n",
       "    }\n",
       "\n",
       "    .dataframe thead th {\n",
       "        text-align: right;\n",
       "    }\n",
       "</style>\n",
       "<table border=\"1\" class=\"dataframe\">\n",
       "  <thead>\n",
       "    <tr style=\"text-align: right;\">\n",
       "      <th></th>\n",
       "      <th>Player</th>\n",
       "      <th>From</th>\n",
       "      <th>To</th>\n",
       "      <th>G</th>\n",
       "      <th>MP</th>\n",
       "      <th>PTS</th>\n",
       "      <th>TRB</th>\n",
       "      <th>AST</th>\n",
       "      <th>STL</th>\n",
       "      <th>BLK</th>\n",
       "      <th>FG%</th>\n",
       "      <th>3P%</th>\n",
       "      <th>FT%</th>\n",
       "      <th>WS</th>\n",
       "      <th>WS/48</th>\n",
       "    </tr>\n",
       "  </thead>\n",
       "  <tbody>\n",
       "    <tr>\n",
       "      <th>0</th>\n",
       "      <td>Kareem Abdul-Jabbar</td>\n",
       "      <td>1970.0</td>\n",
       "      <td>1989.0</td>\n",
       "      <td>1560.0</td>\n",
       "      <td>36.8</td>\n",
       "      <td>24.6</td>\n",
       "      <td>11.2</td>\n",
       "      <td>3.6</td>\n",
       "      <td>0.9</td>\n",
       "      <td>2.6</td>\n",
       "      <td>0.559</td>\n",
       "      <td>0.056</td>\n",
       "      <td>0.721</td>\n",
       "      <td>273.4</td>\n",
       "      <td>0.228</td>\n",
       "    </tr>\n",
       "    <tr>\n",
       "      <th>12</th>\n",
       "      <td>Wilt Chamberlain</td>\n",
       "      <td>1960.0</td>\n",
       "      <td>1973.0</td>\n",
       "      <td>1045.0</td>\n",
       "      <td>45.8</td>\n",
       "      <td>30.1</td>\n",
       "      <td>22.9</td>\n",
       "      <td>4.4</td>\n",
       "      <td>NaN</td>\n",
       "      <td>NaN</td>\n",
       "      <td>0.540</td>\n",
       "      <td>NaN</td>\n",
       "      <td>0.511</td>\n",
       "      <td>247.3</td>\n",
       "      <td>0.248</td>\n",
       "    </tr>\n",
       "    <tr>\n",
       "      <th>32</th>\n",
       "      <td>LeBron James</td>\n",
       "      <td>2004.0</td>\n",
       "      <td>2022.0</td>\n",
       "      <td>1316.0</td>\n",
       "      <td>38.2</td>\n",
       "      <td>27.0</td>\n",
       "      <td>7.4</td>\n",
       "      <td>7.4</td>\n",
       "      <td>1.6</td>\n",
       "      <td>0.8</td>\n",
       "      <td>0.504</td>\n",
       "      <td>0.345</td>\n",
       "      <td>0.734</td>\n",
       "      <td>242.6</td>\n",
       "      <td>0.232</td>\n",
       "    </tr>\n",
       "    <tr>\n",
       "      <th>40</th>\n",
       "      <td>Karl Malone</td>\n",
       "      <td>1986.0</td>\n",
       "      <td>2004.0</td>\n",
       "      <td>1476.0</td>\n",
       "      <td>37.2</td>\n",
       "      <td>25.0</td>\n",
       "      <td>10.1</td>\n",
       "      <td>3.6</td>\n",
       "      <td>1.4</td>\n",
       "      <td>0.8</td>\n",
       "      <td>0.516</td>\n",
       "      <td>0.274</td>\n",
       "      <td>0.742</td>\n",
       "      <td>234.6</td>\n",
       "      <td>0.205</td>\n",
       "    </tr>\n",
       "    <tr>\n",
       "      <th>35</th>\n",
       "      <td>Michael Jordan</td>\n",
       "      <td>1985.0</td>\n",
       "      <td>2003.0</td>\n",
       "      <td>1072.0</td>\n",
       "      <td>38.3</td>\n",
       "      <td>30.1</td>\n",
       "      <td>6.2</td>\n",
       "      <td>5.3</td>\n",
       "      <td>2.3</td>\n",
       "      <td>0.8</td>\n",
       "      <td>0.497</td>\n",
       "      <td>0.327</td>\n",
       "      <td>0.835</td>\n",
       "      <td>214.0</td>\n",
       "      <td>0.250</td>\n",
       "    </tr>\n",
       "  </tbody>\n",
       "</table>\n",
       "</div>"
      ],
      "text/plain": [
       "                 Player    From      To       G    MP   PTS   TRB  AST  STL  \\\n",
       "0   Kareem Abdul-Jabbar  1970.0  1989.0  1560.0  36.8  24.6  11.2  3.6  0.9   \n",
       "12     Wilt Chamberlain  1960.0  1973.0  1045.0  45.8  30.1  22.9  4.4  NaN   \n",
       "32         LeBron James  2004.0  2022.0  1316.0  38.2  27.0   7.4  7.4  1.6   \n",
       "40          Karl Malone  1986.0  2004.0  1476.0  37.2  25.0  10.1  3.6  1.4   \n",
       "35       Michael Jordan  1985.0  2003.0  1072.0  38.3  30.1   6.2  5.3  2.3   \n",
       "\n",
       "    BLK    FG%    3P%    FT%     WS  WS/48  \n",
       "0   2.6  0.559  0.056  0.721  273.4  0.228  \n",
       "12  NaN  0.540    NaN  0.511  247.3  0.248  \n",
       "32  0.8  0.504  0.345  0.734  242.6  0.232  \n",
       "40  0.8  0.516  0.274  0.742  234.6  0.205  \n",
       "35  0.8  0.497  0.327  0.835  214.0  0.250  "
      ]
     },
     "execution_count": 5,
     "metadata": {},
     "output_type": "execute_result"
    }
   ],
   "source": [
    "top575WS = data75.nlargest(5, ['WS'])\n",
    "top575WS"
   ]
  },
  {
   "cell_type": "code",
   "execution_count": 6,
   "metadata": {},
   "outputs": [
    {
     "data": {
      "text/plain": [
       "Index(['Rk', 'Player', 'Pos', 'Age', 'Tm', 'G', 'GS', 'MP', 'FG', 'FGA', 'FG%',\n",
       "       '3P', '3PA', '3P%', '2P', '2PA', '2P%', 'eFG%', 'FT', 'FTA', 'FT%',\n",
       "       'ORB', 'DRB', 'TRB', 'AST', 'STL', 'BLK', 'TOV', 'PF', 'PTS', 'WS',\n",
       "       'WS/48'],\n",
       "      dtype='object')"
      ]
     },
     "execution_count": 6,
     "metadata": {},
     "output_type": "execute_result"
    }
   ],
   "source": [
    "def mahalanobis(x=None, data=None, cov=None):\n",
    "    x_mu = x - np.mean(data)\n",
    "    if not cov:\n",
    "        cov = np.cov(data.values.T)\n",
    "    inv_covmat = np.linalg.inv(cov)\n",
    "    left = np.dot(x_mu, inv_covmat)\n",
    "    mahal = np.dot(left, x_mu.T)\n",
    "    return mahal.diagonal()\n",
    "under25.columns"
   ]
  },
  {
   "cell_type": "code",
   "execution_count": 7,
   "metadata": {},
   "outputs": [
    {
     "name": "stdout",
     "output_type": "stream",
     "text": [
      "Under 25 Players:\n",
      "Top Outliers By Mahalanobis:\n",
      "           PTS       AST        TRB  mahalanobis  forest_score  \\\n",
      "702  24.102941  8.854412   3.938235    22.132027     -0.205873   \n",
      "638  24.977160  3.955556  11.498765    16.028920     -0.195092   \n",
      "343  22.051111  7.522667  10.443111    22.343972     -0.182220   \n",
      "171  25.685427  7.720603   8.356784    15.629486     -0.168755   \n",
      "577  17.419192  4.747475  11.116162    18.000146     -0.152265   \n",
      "\n",
      "                 Player  \n",
      "702          Trae Young  \n",
      "638  Karl-Anthony Towns  \n",
      "343         Nikola Joki  \n",
      "171            Luka Don  \n",
      "577    Domantas Sabonis   \n",
      "\n",
      "Top Outliers By Iso Forest:\n",
      "           PTS       AST        TRB  mahalanobis  forest_score  \\\n",
      "592  15.975773  7.548969   8.027835    23.437396     -0.131784   \n",
      "343  22.051111  7.522667  10.443111    22.343972     -0.182220   \n",
      "702  24.102941  8.854412   3.938235    22.132027     -0.205873   \n",
      "577  17.419192  4.747475  11.116162    18.000146     -0.152265   \n",
      "71   26.266667  5.862189   4.168159    16.179866     -0.128338   \n",
      "\n",
      "               Player  \n",
      "592       Ben Simmons  \n",
      "343       Nikola Joki  \n",
      "702        Trae Young  \n",
      "577  Domantas Sabonis  \n",
      "71       Devin Booker   \n",
      "\n",
      "Top 75 Players:\n",
      "Top Outliers By Mahalanobis:\n",
      "     PTS   AST   TRB  mahalanobis  forest_score            Player\n",
      "12  30.1   4.4  22.9    18.850363     -0.174563  Wilt Chamberlain\n",
      "61   7.3   1.8  13.1    10.824999     -0.146681     Dennis Rodman\n",
      "62  15.1   4.3  22.5    15.123049     -0.133631      Bill Russell\n",
      "65  13.1  10.5   2.7     9.709118     -0.126921     John Stockton\n",
      "33  19.5  11.2   7.2     9.489276     -0.106915     Magic Johnson \n",
      "\n",
      "Top Outliers By Iso Forest:\n",
      "     PTS   AST   TRB  mahalanobis  forest_score            Player\n",
      "12  30.1   4.4  22.9    18.850363     -0.174563  Wilt Chamberlain\n",
      "62  15.1   4.3  22.5    15.123049     -0.133631      Bill Russell\n",
      "61   7.3   1.8  13.1    10.824999     -0.146681     Dennis Rodman\n",
      "65  13.1  10.5   2.7     9.709118     -0.126921     John Stockton\n",
      "33  19.5  11.2   7.2     9.489276     -0.106915     Magic Johnson\n"
     ]
    }
   ],
   "source": [
    "under25_triple_df = under25[['PTS', 'AST', 'TRB']].copy()\n",
    "top75_triple_df = data75[['PTS', 'AST', 'TRB']].copy()\n",
    "#print(top75_triple_df.isna().values.any())\n",
    "\n",
    "i_forest_u25 = IsolationForest().fit(under25_triple_df)\n",
    "i_forest_t75 = IsolationForest().fit(top75_triple_df)\n",
    "\n",
    "#calculate mahalanobis distance for triple stats (PTS,AST,REB)\n",
    "under25_triple_df['mahalanobis'] = mahalanobis(x=under25_triple_df, data=under25[['PTS', 'AST', 'TRB']])\n",
    "top75_triple_df['mahalanobis'] = mahalanobis(x=top75_triple_df, data=top75_triple_df[['PTS', 'AST', 'TRB']])\n",
    "#print(top75_triple_df)\n",
    "\n",
    "#calculate i-forest score for triple states (PTS,AST,REB)\n",
    "under25_triple_df['forest_score']=i_forest_u25.decision_function(under25_triple_df[['PTS','AST','TRB']])\n",
    "top75_triple_df['forest_score']=i_forest_t75.decision_function(top75_triple_df[['PTS','AST','TRB']])\n",
    "\n",
    "top75_triple_df['Player'] = data75['Player']\n",
    "under25_triple_df['Player'] = under25['Player']\n",
    "\n",
    "print(\"Under 25 Players:\")\n",
    "print(\"Top Outliers By Mahalanobis:\")\n",
    "print(under25_triple_df.nsmallest(5,['forest_score']),'\\n')\n",
    "print(\"Top Outliers By Iso Forest:\")\n",
    "print(under25_triple_df.nlargest(5,['mahalanobis']), '\\n')\n",
    "\n",
    "print(\"Top 75 Players:\")\n",
    "print(\"Top Outliers By Mahalanobis:\")\n",
    "print(top75_triple_df.nsmallest(5,['forest_score']), '\\n')\n",
    "print(\"Top Outliers By Iso Forest:\")\n",
    "print(top75_triple_df.nlargest(5,['mahalanobis']))"
   ]
  },
  {
   "cell_type": "markdown",
   "metadata": {},
   "source": [
    "In the above code I calculated outliers of the under 25 players and top 75 players using mahalanobis distance and isolation forest strategies for the (overused) triple of PTS,AST,REB. These players are standout offensive players. Now, in order to get a feel of how the outliers for the under 25 players compare to the top 75 players I'm going to plot an offensive volume metric (PTS+AST+REB) vs minutes played."
   ]
  },
  {
   "cell_type": "code",
   "execution_count": 8,
   "metadata": {},
   "outputs": [
    {
     "name": "stdout",
     "output_type": "stream",
     "text": [
      "            MP       FG%       3P%       FT%        TRB       AST       STL  \\\n",
      "646  29.521311  0.477534  0.354205  0.751580   6.816940  1.310383  0.791803   \n",
      "343  32.583111  0.528856  0.334492  0.836494  10.443111  7.522667  1.303111   \n",
      "532  31.413000  0.439693  0.361344  0.815209   9.242000  1.714000  0.614000   \n",
      "702  33.058824  0.426290  0.343706  0.859004   3.938235  8.854412  0.927941   \n",
      "280  25.800000  0.353000  0.278000  0.824000   2.700000  5.300000  1.000000   \n",
      "631  19.900000  0.422158  0.330217  0.586286   1.750000  1.100000  1.500000   \n",
      "565  22.918987  0.707830  0.319272  0.584552   6.965190  0.580380  0.897468   \n",
      "577  31.438384  0.559995  0.314894  0.722537  11.116162  4.747475  0.850505   \n",
      "592  34.014433  0.566739  0.202786  0.608066   8.027835  7.548969  1.665464   \n",
      "171  33.325628  0.448201  0.331137  0.732864   8.356784  7.720603  1.036181   \n",
      "\n",
      "          BLK        PTS    WS     WS/48  mahalanobis             Player  \n",
      "646  2.676503  12.713661  13.8  0.122612    57.678088       Myles Turner  \n",
      "343  0.667556  22.051111  37.2  0.243562    55.665039        Nikola Joki  \n",
      "532  1.699000  20.271000   9.5  0.145163    33.043381     Kristaps Porzi  \n",
      "702  0.170588  24.102941  16.4  0.116726    32.813792         Trae Young  \n",
      "280  0.400000   6.800000  -1.1 -0.081000    31.984632      Killian Hayes  \n",
      "631  0.900000   4.300000   5.1  0.094627    31.099755   Matisse Thybulle  \n",
      "565  2.068987   8.422785  16.3  0.216061    30.792311  Mitchell Robinson  \n",
      "577  0.462626  17.419192  22.0  0.169644    30.414257   Domantas Sabonis  \n",
      "592  0.681443  15.975773  21.1  0.153482    29.904921        Ben Simmons  \n",
      "171  0.335678  25.685427  21.4  0.154890    29.750731           Luka Don  \n",
      "            MP       FG%       3P%       FT%        TRB       AST       STL  \\\n",
      "343  32.583111  0.528856  0.334492  0.836494  10.443111  7.522667  1.303111   \n",
      "592  34.014433  0.566739  0.202786  0.608066   8.027835  7.548969  1.665464   \n",
      "565  22.918987  0.707830  0.319272  0.584552   6.965190  0.580380  0.897468   \n",
      "638  33.488889  0.511296  0.399178  0.832936  11.498765  3.955556  0.869136   \n",
      "409   8.800000  0.231000  0.500000  0.800000   1.400000  0.400000  0.000000   \n",
      "10   27.304225  0.614568  0.167204  0.681094   9.267606  1.554460  0.532864   \n",
      "252  16.000000  0.303000  0.108000  0.500000   2.800000  1.300000  0.200000   \n",
      "29   31.084270  0.583027  0.172791  0.754544  10.633708  1.666292  0.741011   \n",
      "3    29.696330  0.566499  0.186538  0.736343   8.756881  4.097248  1.054128   \n",
      "646  29.521311  0.477534  0.354205  0.751580   6.816940  1.310383  0.791803   \n",
      "\n",
      "          BLK        PTS    WS     WS/48  IsolationForest              Player  \n",
      "343  0.667556  22.051111  37.2  0.243562        -0.124926         Nikola Joki  \n",
      "592  0.681443  15.975773  21.1  0.153482        -0.120585         Ben Simmons  \n",
      "565  2.068987   8.422785  16.3  0.216061        -0.092424   Mitchell Robinson  \n",
      "638  1.359259  24.977160  20.9  0.184915        -0.091135  Karl-Anthony Towns  \n",
      "409  0.200000   1.100000  -0.1 -0.045000        -0.085221           Karim Man  \n",
      "10   1.404695  11.527700  22.2  0.183225        -0.082951       Jarrett Allen  \n",
      "252  0.000000   4.100000  -0.9 -0.126000        -0.078167           Josh Hall  \n",
      "29   1.144382  15.969101  17.3  0.150081        -0.069197       Deandre Ayton  \n",
      "3    1.023853  14.088991  24.1  0.178689        -0.052379         Bam Adebayo  \n",
      "646  2.676503  12.713661  13.8  0.122612        -0.051325        Myles Turner  \n"
     ]
    }
   ],
   "source": [
    "under25_all_stats = under25.copy()\n",
    "under25_all_stats = under25_all_stats.drop(labels=['Rk','Player','Pos','Age','Tm','GS','FG','FGA','3P','3PA'\n",
    "                                                   ,'2P','2PA','FT','FTA','ORB','DRB','PF','G','eFG%','TOV','2P%'],axis=1)\n",
    "under25_all_stats = under25_all_stats.fillna(value=under25_all_stats['3P%'].mean())\n",
    "\n",
    "under25_all_stats_mala = under25_all_stats.copy()\n",
    "under25_all_stats_iso = under25_all_stats.copy()\n",
    "under25_all_stats_mala['mahalanobis'] = mahalanobis(x=under25_all_stats_mala, data=under25_all_stats_mala[under25_all_stats_mala.columns])\n",
    "under25_all_stats_mala[\"Player\"] = under25[\"Player\"]\n",
    "top10= under25_all_stats_mala.nlargest(10, ['mahalanobis'])\n",
    "print(top10)\n",
    "\n",
    "clf = IsolationForest().fit(under25_all_stats_iso)\n",
    "under25_all_stats_iso[\"IsolationForest\"] = clf.decision_function(under25_all_stats_iso[under25_all_stats_iso.columns])\n",
    "under25_all_stats_iso[\"Player\"] = under25[\"Player\"]\n",
    "\n",
    "top10Iso= under25_all_stats_iso.nsmallest(10, ['IsolationForest'])\n",
    "print(top10Iso)"
   ]
  },
  {
   "cell_type": "markdown",
   "metadata": {},
   "source": [
    "For this set of outliers, we took all columns that overlapped between legends and players under 25 and dropped any columns that weren't in both. This way, we can use a standard for players under 25 that is the same standard for those on the 75th team. \n",
    "\n",
    "Looking at the data above, we can see some obvious candidates for best players under 25, including Nikola Jokic, Karl-Anthony Towns, and Trae Young. (We won't talk about Ben Simmons.) These players are easily some of the best players of their generation, and the stats prove this. But these lists also include mostly unknown players, due to their stats being outliers in the wrong direction. One example on both the Mahalanobis and Isolation Forest lists is Karim Man, who is an outlier with a negative WS and WS/48, and only averaging 1.1 PTS per game. "
   ]
  },
  {
   "cell_type": "code",
   "execution_count": 9,
   "metadata": {},
   "outputs": [
    {
     "data": {
      "text/plain": [
       "<matplotlib.legend.Legend at 0x7f7bc482a880>"
      ]
     },
     "execution_count": 9,
     "metadata": {},
     "output_type": "execute_result"
    },
    {
     "data": {
      "image/png": "[encoded data removed]",
      "text/plain": [
       "<Figure size 432x288 with 1 Axes>"
      ]
     },
     "metadata": {
      "needs_background": "light"
     },
     "output_type": "display_data"
    }
   ],
   "source": [
    "y = data75['PTS']+data75['AST']+data75['TRB']\n",
    "x = data75['MP']\n",
    "\n",
    "KAT = under25[under25['Player'].isin(['Karl-Anthony Towns'])]\n",
    "Trae = under25[under25['Player'].isin(['Trae Young'])]\n",
    "Nikola = under25[under25['Player'].isin(['Nikola Joki'])]\n",
    "Devin = under25[under25['Player'].isin(['Devin Booker'])]\n",
    "Sabonis = under25[under25['Player'].isin(['Domantas Sabonis'])]\n",
    "Simmons = under25[under25['Player'].isin(['Ben Simmons'])]\n",
    "Luka = under25[under25['Player'].isin(['Luka Don'])]\n",
    "\n",
    "x1 = KAT['MP']\n",
    "x2 = KAT['PTS']+KAT['AST']+KAT['TRB']\n",
    "\n",
    "x3 = Trae['MP']\n",
    "x4 = Trae['PTS']+Trae['AST']+Trae['TRB']\\\n",
    "\n",
    "x5 = Nikola['MP']\n",
    "x6 = Nikola['PTS']+Nikola['AST']+Nikola['TRB']\n",
    "\n",
    "x7 = Devin['MP']\n",
    "x8 = Devin['PTS']+Devin['AST']+Devin['TRB']\n",
    "\n",
    "x9 = Sabonis['MP']\n",
    "x10 = Sabonis['PTS']+Sabonis['AST']+Sabonis['TRB']\n",
    "\n",
    "x11 = Simmons['MP']\n",
    "x12 = Simmons['PTS']+Simmons['AST']+Simmons['TRB']\n",
    "\n",
    "x13 = Luka['MP']\n",
    "x14 = Luka['PTS']+Luka['AST']+Luka['TRB']\n",
    "\n",
    "plt.scatter(x,y,color='grey')\n",
    "plt.scatter(x1,x2,color = 'darkslategrey', s=75,label = 'Karl-Anthony Towns')\n",
    "plt.scatter(x3,x4,color = 'red', s=75,label = 'Trae Young')\n",
    "plt.scatter(x5,x6,color = 'gold', s=75,label = 'Nikola Jokic')\n",
    "plt.scatter(x7,x8,color = 'orange', s=75,label = 'Devin Booker')\n",
    "plt.scatter(x9,x10,color = 'yellow', s=75,label = 'Domantas Sabonis')\n",
    "plt.scatter(x11,x12,color = 'cornflowerblue', s=75,label = 'Ben Simmons')\n",
    "plt.scatter(x13,x14,color = 'blue', s=75,label = 'Luka Doncic')\n",
    "plt.xlabel(\"Minutes Per Game\")\n",
    "plt.ylabel(\"Offensive Volume\")\n",
    "plt.title(\"Under 25 Offensive Player Outliers vs Legends\")\n",
    "plt.legend()"
   ]
  },
  {
   "cell_type": "code",
   "execution_count": 10,
   "metadata": {},
   "outputs": [
    {
     "name": "stdout",
     "output_type": "stream",
     "text": [
      "Under 25 Players:\n",
      "Top Outliers By Mahalanobis:\n",
      "          STL       BLK  mahalanobis  forest_score             Player\n",
      "646  0.791803  2.676503    36.991082     -0.256223       Myles Turner\n",
      "565  0.897468  2.068987    19.609919     -0.205833  Mitchell Robinson\n",
      "592  1.665464  0.681443    11.031290     -0.161414        Ben Simmons\n",
      "463  1.599248  0.199248    10.938118     -0.146142    Dejounte Murray\n",
      "631  1.500000  0.900000     8.455868     -0.143859   Matisse Thybulle \n",
      "\n",
      "Top Outliers By Iso Forest:\n",
      "          STL       BLK  mahalanobis  forest_score             Player\n",
      "646  0.791803  2.676503    36.991082     -0.256223       Myles Turner\n",
      "565  0.897468  2.068987    19.609919     -0.205833  Mitchell Robinson\n",
      "532  0.614000  1.699000    12.178655     -0.105550     Kristaps Porzi\n",
      "592  1.665464  0.681443    11.031290     -0.161414        Ben Simmons\n",
      "463  1.599248  0.199248    10.938118     -0.146142    Dejounte Murray \n",
      "\n"
     ]
    }
   ],
   "source": [
    "under25_defense_df = under25[['STL', 'BLK']].copy()\n",
    "top75_defense_df = data75[['STL', 'BLK']].copy()\n",
    "#print(top75_triple_df.isna().values.any())\n",
    "top75_defense_df.dropna()\n",
    "\n",
    "i_forest_u25 = IsolationForest().fit(under25_defense_df)\n",
    "#i_forest_t75 = IsolationForest().fit(top75_defense_df)\n",
    "\n",
    "#calculate mahalanobis distance for triple stats (PTS,AST,REB)\n",
    "under25_defense_df['mahalanobis'] = mahalanobis(x=under25_defense_df, data=under25[['STL', 'BLK']])\n",
    "#top75_defense_df['mahalanobis'] = mahalanobis(x=top75_defense_df, data=top75_defense_df[['STL', 'BLK']])\n",
    "#print(top75_triple_df)\n",
    "\n",
    "#calculate i-forest score for triple states (PTS,AST,REB)\n",
    "under25_defense_df['forest_score']=i_forest_u25.decision_function(under25_defense_df[['STL', 'BLK']])\n",
    "#top75_defense_df['forest_score']=i_forest_t75.decision_function(top75_defense_df[['STL', 'BLK']])\n",
    "\n",
    "#top75_defense_df['Player'] = data75['Player']\n",
    "under25_defense_df['Player'] = under25['Player']\n",
    "\n",
    "print(\"Under 25 Players:\")\n",
    "print(\"Top Outliers By Mahalanobis:\")\n",
    "print(under25_defense_df.nsmallest(5,['forest_score']),'\\n')\n",
    "print(\"Top Outliers By Iso Forest:\")\n",
    "print(under25_defense_df.nlargest(5,['mahalanobis']), '\\n')\n"
   ]
  },
  {
   "cell_type": "code",
   "execution_count": 11,
   "metadata": {},
   "outputs": [
    {
     "data": {
      "text/plain": [
       "<matplotlib.legend.Legend at 0x7f7bc1b57850>"
      ]
     },
     "execution_count": 11,
     "metadata": {},
     "output_type": "execute_result"
    },
    {
     "data": {
      "image/png": "[encoded data removed]",
      "text/plain": [
       "<Figure size 432x288 with 1 Axes>"
      ]
     },
     "metadata": {
      "needs_background": "light"
     },
     "output_type": "display_data"
    }
   ],
   "source": [
    "y = data75['BLK']+data75['STL']\n",
    "x = data75['MP']\n",
    "\n",
    "Myles = under25[under25['Player'].isin(['Myles Turner'])]\n",
    "Mitchell = under25[under25['Player'].isin(['Mitchell Robinson'])]\n",
    "Elijah = under25[under25['Player'].isin(['Elijah Bryant'])]\n",
    "Ben = under25[under25['Player'].isin(['Ben Simmons'])]\n",
    "Dejounte = under25[under25['Player'].isin(['Dejounte Murray'])]\n",
    "\n",
    "x1 = Myles['MP']\n",
    "x2 = Myles['BLK']+Myles['STL']\n",
    "\n",
    "x3 = Mitchell['MP']\n",
    "x4 = Mitchell['BLK']+Mitchell['STL']\n",
    "\n",
    "x5 = Elijah['MP']\n",
    "x6 = Elijah['BLK']+Elijah['STL']\n",
    "\n",
    "x7 = Ben['MP']\n",
    "x8 = Ben['BLK']+Ben['STL']\n",
    "\n",
    "x9 = Sabonis['MP']\n",
    "x10 = Dejounte['BLK']+Dejounte['STL']\n",
    "\n",
    "\n",
    "plt.scatter(x,y,color='grey')\n",
    "plt.scatter(x1,x2,color = 'yellow', s=75,label = 'Myles Turner')\n",
    "plt.scatter(x3,x4,color = 'orange', s=75,label = 'Mitchell Robinson')\n",
    "plt.scatter(x5,x6,color = 'green', s=75,label = 'Elijah Bryant')\n",
    "plt.scatter(x7,x8,color = 'cornflowerblue', s=75,label = 'Ben Simmons')\n",
    "plt.scatter(x9,x10,color = 'blue', s=75,label = 'Dejounte Murray')\n",
    "\n",
    "plt.xlabel(\"Minutes Per Game\")\n",
    "plt.ylabel(\"Defensive Volume\")\n",
    "plt.title(\"Under 25 Defensive Player Outliers vs Legends\")\n",
    "plt.legend()"
   ]
  },
  {
   "cell_type": "markdown",
   "metadata": {},
   "source": [
    "The outliers using all available stats for the under 25 player pool produced worse overall players compared to the triple stat of PTS, AST, REB. This makes sense because bad players are also outliers as well. The PTS, AST, REB triple league averages are going to be relatively low, therefore outliers will most likely be high numbers, thus good players. However, once we start including more convoluted stats like field goal percentage and win shares, bad players will be outliers in a number of these metrics and therefore they will overshadow some better players. \n",
    "\n",
    "We created two plots on Offensive Volume and Defensive Volume to see initial estimates of where we thought players under 25 would stack up against the 75th Team."
   ]
  },
  {
   "cell_type": "markdown",
   "metadata": {},
   "source": [
    "**What's missing??**\n",
    "So far, we have a good idea of good players who are outliers just in a statistic for offensive load and defensive load separately, and we have outliers in all stats that include bad players that definitely won't be amoung the legends. We need to find a better benchmark to compare current players to the all time greats that include some idea of offense, defense and efficiency concurrently."
   ]
  },
  {
   "cell_type": "markdown",
   "metadata": {},
   "source": [
    "### UV Decomposition:\n",
    "\n",
    "It's going to be hard to use any other data science methods with unknown values within our dataset."
   ]
  },
  {
   "cell_type": "markdown",
   "metadata": {},
   "source": [
    "**1) pre-processing**"
   ]
  },
  {
   "cell_type": "code",
   "execution_count": 12,
   "metadata": {},
   "outputs": [],
   "source": [
    "data75_raw = data75.drop(columns = ['Player','From','To','G'])\n",
    "M = data75_raw.to_numpy()\n",
    "# initialize\n",
    "player_means = np.zeros(M.shape[0])\n",
    "stat_means = np.zeros(M.shape[1])\n",
    "\n",
    "#amount subtracted from original M\n",
    "M_sub = np.zeros(M.shape)\n",
    "\n",
    "# TODO -- compute the mean stat for each user (not including blanks)\n",
    "player_means = np.nanmean(M, axis=1)\n",
    "#print(len(player_means))\n",
    "\n",
    "# normalize M first by subtracting from each non-blank element that user's mean rating\n",
    "M_norm = M.copy()\n",
    "for u in range(len(player_means)):\n",
    "    M_norm[u,:] -= player_means[u]\n",
    "    M_sub[u,:] -= player_means[u]\n",
    "\n",
    "# TODO -- compute the mean rating for each user (not including blanks)\n",
    "stat_means = np.nanmean(M_norm, axis=0)\n",
    "#print(len(stat_means))\n",
    "\n",
    "# normalize M once more by subtracting from each non-blank element that item's mean rating\n",
    "for i in range(len(stat_means)):\n",
    "    M_norm[:,i] -= stat_means[i]\n",
    "    M_sub[:,i] -= stat_means[i]\n",
    "    \n",
    "#print(M == M_norm-M_sub)\n",
    "#print(M[:5])\n",
    "#print((M_norm-M_sub)[:5])"
   ]
  },
  {
   "cell_type": "markdown",
   "metadata": {},
   "source": [
    "Compute U and V"
   ]
  },
  {
   "cell_type": "code",
   "execution_count": 13,
   "metadata": {},
   "outputs": [],
   "source": [
    "def RMSE(M1, M2):\n",
    "    rmse=np.sqrt(np.nansum((M1-M2)**2)/(M1.shape[0]*M1.shape[1]-np.sum(np.isnan(M1))))\n",
    "    return rmse"
   ]
  },
  {
   "cell_type": "code",
   "execution_count": 14,
   "metadata": {},
   "outputs": [
    {
     "name": "stdout",
     "output_type": "stream",
     "text": [
      "0.7483431053506279\n"
     ]
    }
   ],
   "source": [
    "##Now set it up as a loop, running down U and V in order (by whichever dimension first)\n",
    "d=5\n",
    "U = np.ones((M.shape[0],d))\n",
    "V= np.ones((d,M.shape[1]))\n",
    "\n",
    "error = 100\n",
    "while(error>0.75):\n",
    "    for r in range(M.shape[0]):\n",
    "        for s in range(d):\n",
    "            U[r,s]=np.nansum([V[s,j]*(M_norm[r,j]-np.sum(U[r,:]*V[:,j])+U[r,s]*V[s,j])  for j in range(M.shape[1])])/np.nansum(V[s,:]**2)\n",
    "    for s in range(M.shape[1]):\n",
    "        for r in range(d):\n",
    "            V[r,s]=np.nansum([U[i,r]*(M_norm[i,s]-np.sum(U[i,:]*V[:,s])+U[i,r]*V[r,s])  for i in range(M.shape[0])])/np.nansum(U[:,r]**2)\n",
    "\n",
    "    #print(U)\n",
    "    #print(V)\n",
    "\n",
    "    P=np.matmul(U,V)\n",
    "\n",
    "    #Put M_sub into P\n",
    "    P_unnorm= P-M_sub\n",
    "    error = RMSE(M,P_unnorm)\n",
    "    \n",
    "print(error)"
   ]
  },
  {
   "cell_type": "code",
   "execution_count": 15,
   "metadata": {},
   "outputs": [],
   "source": [
    "UV_df = pd.DataFrame(P_unnorm, columns = data75_raw.columns)\n",
    "UV_df['Player'] = data75['Player']"
   ]
  },
  {
   "cell_type": "code",
   "execution_count": 16,
   "metadata": {},
   "outputs": [
    {
     "data": {
      "text/html": [
       "<div>\n",
       "<style scoped>\n",
       "    .dataframe tbody tr th:only-of-type {\n",
       "        vertical-align: middle;\n",
       "    }\n",
       "\n",
       "    .dataframe tbody tr th {\n",
       "        vertical-align: top;\n",
       "    }\n",
       "\n",
       "    .dataframe thead th {\n",
       "        text-align: right;\n",
       "    }\n",
       "</style>\n",
       "<table border=\"1\" class=\"dataframe\">\n",
       "  <thead>\n",
       "    <tr style=\"text-align: right;\">\n",
       "      <th></th>\n",
       "      <th>MP</th>\n",
       "      <th>PTS</th>\n",
       "      <th>TRB</th>\n",
       "      <th>AST</th>\n",
       "      <th>STL</th>\n",
       "      <th>BLK</th>\n",
       "      <th>FG%</th>\n",
       "      <th>3P%</th>\n",
       "      <th>FT%</th>\n",
       "      <th>WS</th>\n",
       "      <th>WS/48</th>\n",
       "      <th>Player</th>\n",
       "    </tr>\n",
       "  </thead>\n",
       "  <tbody>\n",
       "    <tr>\n",
       "      <th>55</th>\n",
       "      <td>40.117016</td>\n",
       "      <td>25.846508</td>\n",
       "      <td>15.762474</td>\n",
       "      <td>2.790975</td>\n",
       "      <td>8.737596</td>\n",
       "      <td>8.693741</td>\n",
       "      <td>0.595272</td>\n",
       "      <td>7.691772</td>\n",
       "      <td>0.859576</td>\n",
       "      <td>135.938818</td>\n",
       "      <td>0.341378</td>\n",
       "      <td>Bob Pettit</td>\n",
       "    </tr>\n",
       "  </tbody>\n",
       "</table>\n",
       "</div>"
      ],
      "text/plain": [
       "           MP        PTS        TRB       AST       STL       BLK       FG%  \\\n",
       "55  40.117016  25.846508  15.762474  2.790975  8.737596  8.693741  0.595272   \n",
       "\n",
       "         3P%       FT%          WS     WS/48      Player  \n",
       "55  7.691772  0.859576  135.938818  0.341378  Bob Pettit  "
      ]
     },
     "execution_count": 16,
     "metadata": {},
     "output_type": "execute_result"
    }
   ],
   "source": [
    "UV_df[UV_df['Player']=='Bob Pettit']"
   ]
  },
  {
   "cell_type": "code",
   "execution_count": 17,
   "metadata": {},
   "outputs": [
    {
     "data": {
      "text/html": [
       "<div>\n",
       "<style scoped>\n",
       "    .dataframe tbody tr th:only-of-type {\n",
       "        vertical-align: middle;\n",
       "    }\n",
       "\n",
       "    .dataframe tbody tr th {\n",
       "        vertical-align: top;\n",
       "    }\n",
       "\n",
       "    .dataframe thead th {\n",
       "        text-align: right;\n",
       "    }\n",
       "</style>\n",
       "<table border=\"1\" class=\"dataframe\">\n",
       "  <thead>\n",
       "    <tr style=\"text-align: right;\">\n",
       "      <th></th>\n",
       "      <th>MP</th>\n",
       "      <th>PTS</th>\n",
       "      <th>TRB</th>\n",
       "      <th>AST</th>\n",
       "      <th>STL</th>\n",
       "      <th>BLK</th>\n",
       "      <th>FG%</th>\n",
       "      <th>3P%</th>\n",
       "      <th>FT%</th>\n",
       "      <th>WS</th>\n",
       "      <th>WS/48</th>\n",
       "      <th>Player</th>\n",
       "    </tr>\n",
       "  </thead>\n",
       "  <tbody>\n",
       "    <tr>\n",
       "      <th>12</th>\n",
       "      <td>48.234176</td>\n",
       "      <td>29.090925</td>\n",
       "      <td>23.0634</td>\n",
       "      <td>4.839509</td>\n",
       "      <td>15.684264</td>\n",
       "      <td>15.124947</td>\n",
       "      <td>0.461624</td>\n",
       "      <td>16.265339</td>\n",
       "      <td>0.630531</td>\n",
       "      <td>246.588807</td>\n",
       "      <td>0.259209</td>\n",
       "      <td>Wilt Chamberlain</td>\n",
       "    </tr>\n",
       "  </tbody>\n",
       "</table>\n",
       "</div>"
      ],
      "text/plain": [
       "           MP        PTS      TRB       AST        STL        BLK       FG%  \\\n",
       "12  48.234176  29.090925  23.0634  4.839509  15.684264  15.124947  0.461624   \n",
       "\n",
       "          3P%       FT%          WS     WS/48            Player  \n",
       "12  16.265339  0.630531  246.588807  0.259209  Wilt Chamberlain  "
      ]
     },
     "execution_count": 17,
     "metadata": {},
     "output_type": "execute_result"
    }
   ],
   "source": [
    "UV_df[UV_df['Player']=='Wilt Chamberlain']"
   ]
  },
  {
   "cell_type": "code",
   "execution_count": 18,
   "metadata": {},
   "outputs": [
    {
     "data": {
      "text/html": [
       "<div>\n",
       "<style scoped>\n",
       "    .dataframe tbody tr th:only-of-type {\n",
       "        vertical-align: middle;\n",
       "    }\n",
       "\n",
       "    .dataframe tbody tr th {\n",
       "        vertical-align: top;\n",
       "    }\n",
       "\n",
       "    .dataframe thead th {\n",
       "        text-align: right;\n",
       "    }\n",
       "</style>\n",
       "<table border=\"1\" class=\"dataframe\">\n",
       "  <thead>\n",
       "    <tr style=\"text-align: right;\">\n",
       "      <th></th>\n",
       "      <th>MP</th>\n",
       "      <th>PTS</th>\n",
       "      <th>TRB</th>\n",
       "      <th>AST</th>\n",
       "      <th>STL</th>\n",
       "      <th>BLK</th>\n",
       "      <th>FG%</th>\n",
       "      <th>3P%</th>\n",
       "      <th>FT%</th>\n",
       "      <th>WS</th>\n",
       "      <th>WS/48</th>\n",
       "      <th>Player</th>\n",
       "    </tr>\n",
       "  </thead>\n",
       "  <tbody>\n",
       "    <tr>\n",
       "      <th>8</th>\n",
       "      <td>39.553564</td>\n",
       "      <td>27.099878</td>\n",
       "      <td>12.987232</td>\n",
       "      <td>3.559363</td>\n",
       "      <td>7.589829</td>\n",
       "      <td>7.309928</td>\n",
       "      <td>0.94197</td>\n",
       "      <td>6.294423</td>\n",
       "      <td>1.262477</td>\n",
       "      <td>104.435723</td>\n",
       "      <td>0.681469</td>\n",
       "      <td>Elgin Baylor</td>\n",
       "    </tr>\n",
       "  </tbody>\n",
       "</table>\n",
       "</div>"
      ],
      "text/plain": [
       "          MP        PTS        TRB       AST       STL       BLK      FG%  \\\n",
       "8  39.553564  27.099878  12.987232  3.559363  7.589829  7.309928  0.94197   \n",
       "\n",
       "        3P%       FT%          WS     WS/48        Player  \n",
       "8  6.294423  1.262477  104.435723  0.681469  Elgin Baylor  "
      ]
     },
     "execution_count": 18,
     "metadata": {},
     "output_type": "execute_result"
    }
   ],
   "source": [
    "UV_df[UV_df['Player']=='Elgin Baylor']"
   ]
  },
  {
   "cell_type": "markdown",
   "metadata": {},
   "source": [
    "The UV decomposition did a really good job giving us U and V matrices with a low RMSE value, however, for the originally unknown values, the UV decomposition gave us impossibly high numbers. For example, as great as Wilt Chamberlain was, he did not average 15 steals and blocks per game. Also, the 3P% column is definitely not a percentage. Because of this it is important to normalize the unknown statistics based off of known values. For example, some researchers have found that Wilt Chamberlain averaged around 8.8 blocks per game. In order to fix the unknown values we got from UV decomposition, every unknown value will be multiplied by the ratio of Wilts' (8.8/15.1) blocks to give us a more realistic number for comparison. Similarly, steals will be multiplied by 2.1/15.68."
   ]
  },
  {
   "cell_type": "code",
   "execution_count": 19,
   "metadata": {},
   "outputs": [],
   "source": [
    "block_bench = 8.8/15.1\n",
    "stl_bench = 2.1/15.68\n",
    "tp_total = 0\n",
    "data75_complete = data75.copy()\n",
    "for player in list(data75['Player']):\n",
    "    for stat in data75.columns:\n",
    "        if(data75.loc[data75[data75['Player']==player].index][stat].isnull().any()):\n",
    "            if(stat == 'STL'):\n",
    "                data75_complete.at[data75_complete.index[data75_complete['Player'] == player].tolist()[0],stat] = stl_bench*UV_df[UV_df['Player']==player][stat].tolist()[0]\n",
    "                #data75.loc[data75[data75['Player']==player].index][stat] = 0#stl_bench*UV_df[UV_df['Player']==player][stat]\n",
    "            if(stat == 'BLK'):\n",
    "                data75_complete.at[data75_complete.index[data75_complete['Player'] == player].tolist()[0],stat] = block_bench*UV_df[UV_df['Player']==player][stat].tolist()[0]\n",
    "            if(stat == '3P%'):\n",
    "                if(UV_df[UV_df['Player']==player][stat].tolist()[0]>0.6):\n",
    "                    tp_total += UV_df[UV_df['Player']==player][stat].tolist()[0]\n",
    "                #print(tp_total)\n",
    "                \n",
    "for player in list(data75['Player']):\n",
    "    for stat in data75.columns:\n",
    "        if(data75.loc[data75[data75['Player']==player].index][stat].isnull().any()):\n",
    "            if(stat == '3P%'):\n",
    "                #if(UV_df[UV_df['Player']==player][stat].tolist()[0]>0.6):\n",
    "                    data75_complete.at[data75_complete.index[data75_complete['Player'] == player].tolist()[0],stat] = UV_df[UV_df['Player']==player][stat].tolist()[0]/tp_total"
   ]
  },
  {
   "cell_type": "code",
   "execution_count": 20,
   "metadata": {},
   "outputs": [
    {
     "data": {
      "text/html": [
       "<div>\n",
       "<style scoped>\n",
       "    .dataframe tbody tr th:only-of-type {\n",
       "        vertical-align: middle;\n",
       "    }\n",
       "\n",
       "    .dataframe tbody tr th {\n",
       "        vertical-align: top;\n",
       "    }\n",
       "\n",
       "    .dataframe thead th {\n",
       "        text-align: right;\n",
       "    }\n",
       "</style>\n",
       "<table border=\"1\" class=\"dataframe\">\n",
       "  <thead>\n",
       "    <tr style=\"text-align: right;\">\n",
       "      <th></th>\n",
       "      <th>Player</th>\n",
       "      <th>From</th>\n",
       "      <th>To</th>\n",
       "      <th>G</th>\n",
       "      <th>MP</th>\n",
       "      <th>PTS</th>\n",
       "      <th>TRB</th>\n",
       "      <th>AST</th>\n",
       "      <th>STL</th>\n",
       "      <th>BLK</th>\n",
       "      <th>FG%</th>\n",
       "      <th>3P%</th>\n",
       "      <th>FT%</th>\n",
       "      <th>WS</th>\n",
       "      <th>WS/48</th>\n",
       "    </tr>\n",
       "  </thead>\n",
       "  <tbody>\n",
       "    <tr>\n",
       "      <th>9</th>\n",
       "      <td>Dave Bing</td>\n",
       "      <td>1967.0</td>\n",
       "      <td>1978.0</td>\n",
       "      <td>901.0</td>\n",
       "      <td>36.4</td>\n",
       "      <td>20.3</td>\n",
       "      <td>3.8</td>\n",
       "      <td>6.0</td>\n",
       "      <td>1.3</td>\n",
       "      <td>0.2</td>\n",
       "      <td>0.441</td>\n",
       "      <td>0.002581</td>\n",
       "      <td>0.775</td>\n",
       "      <td>68.8</td>\n",
       "      <td>0.101</td>\n",
       "    </tr>\n",
       "  </tbody>\n",
       "</table>\n",
       "</div>"
      ],
      "text/plain": [
       "      Player    From      To      G    MP   PTS  TRB  AST  STL  BLK    FG%  \\\n",
       "9  Dave Bing  1967.0  1978.0  901.0  36.4  20.3  3.8  6.0  1.3  0.2  0.441   \n",
       "\n",
       "        3P%    FT%    WS  WS/48  \n",
       "9  0.002581  0.775  68.8  0.101  "
      ]
     },
     "execution_count": 20,
     "metadata": {},
     "output_type": "execute_result"
    }
   ],
   "source": [
    "data75_complete[data75_complete['Player']=='Dave Bing']"
   ]
  },
  {
   "cell_type": "markdown",
   "metadata": {},
   "source": [
    "I have updated our original data frame with the UV estimated values for missing statistics. The 3P% column was tricky because the UV decomposition was giving me values that were >1. In order to accommodate for this I divided the values that were >1 by the total sum of all estimated 3P%. Why does this make sense? UV decomposition has a sense of players' role and outlierness. This is because it very closely estimates the other known statistics so although it's estimated statistics might be off, they give a relatively good idea of the outlierness of a players value in that statistical column. If I divide each value estimated value for 3P% by the total estimated sum for 3P%, the proportion of outlierness will be preserved.\n",
    "\n",
    "Although the resulting values estimated from UV decomposition aren't necessarily correct they give a good proportional idea of a players' role and outlierness. When comparing players if we can maintain this sense then the comparison will still be valid. "
   ]
  },
  {
   "cell_type": "markdown",
   "metadata": {},
   "source": [
    "### K-means:"
   ]
  },
  {
   "cell_type": "code",
   "execution_count": 21,
   "metadata": {},
   "outputs": [
    {
     "data": {
      "text/plain": [
       "<matplotlib.legend.Legend at 0x7f7bc49a5d00>"
      ]
     },
     "execution_count": 21,
     "metadata": {},
     "output_type": "execute_result"
    },
    {
     "data": {
      "image/png": "[encoded data removed]",
      "text/plain": [
       "<Figure size 432x288 with 1 Axes>"
      ]
     },
     "metadata": {
      "needs_background": "light"
     },
     "output_type": "display_data"
    }
   ],
   "source": [
    "y75 = data75['PTS']+data75['AST']+data75['TRB']\n",
    "x75 = data75['MP']\n",
    "\n",
    "y25 = under25_all_stats['PTS']+under25_all_stats['AST']+under25_all_stats['TRB']\n",
    "x25 = under25_all_stats['MP']\n",
    "\n",
    "plt.scatter(x75,y75,color='gold',label = \"75th Team\")\n",
    "plt.scatter(x25,y25,color='blue',label = \"Young Players\")\n",
    "plt.xlabel(\"Minutes Per Game\")\n",
    "plt.ylabel(\"Offensive Volume\")\n",
    "plt.title(\"Under 25 Players vs 75th Team by Offensive Load (No Clustering)\")\n",
    "plt.legend()"
   ]
  },
  {
   "cell_type": "markdown",
   "metadata": {},
   "source": [
    "This is a similar plot to the one above. The is offensive load by minutes per game colored by under 25 players and legends. We wanted to get a good baseline of where all players laid on a simple axis before clustering. But, offensive load only takes into account 3 statistics (PTS, TRB, AST), and we are going to be clustering based on 10 total columns or dimensions."
   ]
  },
  {
   "cell_type": "code",
   "execution_count": 22,
   "metadata": {},
   "outputs": [
    {
     "name": "stdout",
     "output_type": "stream",
     "text": [
      "Index(['MP', 'FG%', '3P%', 'FT%', 'TRB', 'AST', 'STL', 'BLK', 'PTS', 'WS/48',\n",
      "       'Player'],\n",
      "      dtype='object')\n"
     ]
    }
   ],
   "source": [
    "AllPlayers = under25_all_stats.copy()\n",
    "AllPlayers = AllPlayers.drop(labels='WS',axis=1)\n",
    "AllPlayers[\"Player\"] = under25[\"Player\"]\n",
    "data75copy = data75_complete.copy()\n",
    "data75copy=data75copy.drop(labels=['WS','From','To','G'],axis=1)\n",
    "\n",
    "data75copy.drop(labels=['Player','PTS','3P%','FG%','FT%'], axis=1,inplace = True)\n",
    "data75copy.insert(6, 'Player', data75['Player'])\n",
    "data75copy.insert(5, 'PTS', data75_complete['PTS'])\n",
    "data75copy.insert(1, 'FG%', data75_complete['FG%'])\n",
    "data75copy.insert(2, '3P%', data75_complete['3P%'])\n",
    "data75copy.insert(3, 'FT%', data75_complete['FT%'])\n",
    "\n",
    "AllPlayers = pd.concat([AllPlayers,data75copy])\n",
    "print(AllPlayers.columns)"
   ]
  },
  {
   "cell_type": "markdown",
   "metadata": {},
   "source": [
    "After reducing the under 25 players to match the exact columns of the 75th team, we were left with 11 total columns on which to compare. We ended up dropping Win Shares due to redundancy with WS/48 and because the stat is a result of time spent in the league, we figured WS/48 was a more fair comparison for young players. We were then left with 10 columns on which to cluster as seen above. There are a total of 249 candidate young players and 76 total players on the 75th Team, for a total of 350 players we're comparing. "
   ]
  },
  {
   "cell_type": "code",
   "execution_count": 23,
   "metadata": {},
   "outputs": [],
   "source": [
    "data = AllPlayers.to_numpy()\n",
    "#randpoints = np.random.randint(len(data),size=2)\n",
    "centroid0 = data[261].copy()\n",
    "centroid1 = data[1].copy()\n",
    "allCentroids = [centroid0,centroid1]\n",
    "numIterations = 100\n",
    "clusterIdx = []\n",
    "\n",
    "for z in range(0,numIterations):\n",
    "    clusterIdx = []\n",
    "    for i in data: #Assigning each point to cluster\n",
    "        Idx = 0\n",
    "        lowestDist = np.Inf\n",
    "        dist0 = distance.euclidean([i[0],i[1],i[2],i[3],i[4],i[5],i[6],i[7],i[8],i[9]],\n",
    "                                   [allCentroids[0][0],allCentroids[0][1],allCentroids[0][2],allCentroids[0][3],allCentroids[0][4],\n",
    "                                   allCentroids[0][5],allCentroids[0][6],allCentroids[0][7],allCentroids[0][8],allCentroids[0][9]])\n",
    "        dist1 = distance.euclidean([i[0],i[1],i[2],i[3],i[4],i[5],i[6],i[7],i[8],i[9]],\n",
    "                                   [allCentroids[1][0],allCentroids[1][1],allCentroids[1][2],allCentroids[1][3],allCentroids[1][4],\n",
    "                                   allCentroids[1][5],allCentroids[1][6],allCentroids[1][7],allCentroids[1][8],allCentroids[1][9]])\n",
    "        if(dist0 < lowestDist):\n",
    "            lowestDist = dist0\n",
    "            Idx = 0\n",
    "        if(dist1 < lowestDist):\n",
    "            lowestDist = dist1\n",
    "            Idx = 1\n",
    "        clusterIdx += [Idx]\n",
    "\n",
    "\n",
    "    for j in range(0,2): #Updating each centroid\n",
    "        Coords0,Coords1,Coords2,Coords3,Coords4,Coords5,Coords6,Coords7,Coords8,Coords9 = [],[],[],[],[],[],[],[],[],[]\n",
    "        for i in range(0,len(data)):\n",
    "            if clusterIdx[i] == j:\n",
    "                Coords0.append(data[i][0])\n",
    "                Coords1.append(data[i][1])\n",
    "                Coords2.append(data[i][2])\n",
    "                Coords3.append(data[i][3])\n",
    "                Coords4.append(data[i][4])\n",
    "                Coords5.append(data[i][5])\n",
    "                Coords6.append(data[i][6])\n",
    "                Coords7.append(data[i][7])\n",
    "                Coords8.append(data[i][8])\n",
    "                Coords9.append(data[i][9])\n",
    "        numPoints = np.sum([clusterIdx[k]==j for k in range(len(clusterIdx))])\n",
    "        allCentroids[j] = [np.sum(Coords0)/numPoints, np.sum(Coords1)/numPoints, np.sum(Coords2)/numPoints, np.sum(Coords4)/numPoints,\n",
    "                          np.sum(Coords4)/numPoints,np.sum(Coords5)/numPoints,np.sum(Coords6)/numPoints,np.sum(Coords7)/numPoints,\n",
    "                          np.sum(Coords8)/numPoints,np.sum(Coords9)/numPoints]"
   ]
  },
  {
   "cell_type": "code",
   "execution_count": 24,
   "metadata": {},
   "outputs": [
    {
     "data": {
      "text/plain": [
       "<matplotlib.legend.Legend at 0x7f7bc4a8de20>"
      ]
     },
     "execution_count": 24,
     "metadata": {},
     "output_type": "execute_result"
    },
    {
     "data": {
      "image/png": "[encoded data removed]",
      "text/plain": [
       "<Figure size 432x288 with 1 Axes>"
      ]
     },
     "metadata": {
      "needs_background": "light"
     },
     "output_type": "display_data"
    }
   ],
   "source": [
    "cluster0x,cluster0y,cluster1x,cluster1y,centroidsx,centroidsy = [],[],[],[],[],[]\n",
    "centroidsx += [allCentroids[0][0],allCentroids[1][0]]\n",
    "centroidsy += [(allCentroids[0][8]+allCentroids[0][4]+allCentroids[0][5]),(allCentroids[1][8]+allCentroids[1][4]+allCentroids[1][5])]\n",
    "for i in range(0,len(clusterIdx)):\n",
    "    if clusterIdx[i] == 0:\n",
    "        cluster0x += [data[i][0]]\n",
    "        cluster0y += [(data[i][8]+data[i][4]+data[i][5])]\n",
    "    if clusterIdx[i] == 1:\n",
    "        cluster1x += [data[i][0]]\n",
    "        cluster1y += [(data[i][8]+data[i][4]+data[i][5])]\n",
    "plt.scatter(cluster0x,cluster0y,color='gold',label=\"Legends Candidates\")\n",
    "plt.scatter(cluster1x,cluster1y,color='blue',label=\"Non-Candidates\")\n",
    "plt.scatter(centroidsx,centroidsy,color='black',label=\"CENTROIDS\",s=150,marker='+')\n",
    "plt.xlabel('Minutes Played')\n",
    "plt.ylabel('Offensive Volume')\n",
    "plt.title(\"Clustering with unnormalized data and k=2\")\n",
    "plt.legend()"
   ]
  },
  {
   "cell_type": "code",
   "execution_count": 25,
   "metadata": {},
   "outputs": [
    {
     "name": "stdout",
     "output_type": "stream",
     "text": [
      "54 129\n"
     ]
    }
   ],
   "source": [
    "Legends = pd.DataFrame()\n",
    "LegendsUnder25 = pd.DataFrame()\n",
    "for i in range(len(clusterIdx)):\n",
    "    if(clusterIdx[i] == 0):\n",
    "        Legends = pd.concat([Legends, pd.DataFrame([AllPlayers.iloc[i]])], ignore_index=True)\n",
    "        if(i <= len(under25_all_stats)):\n",
    "            LegendsUnder25 = pd.concat([LegendsUnder25, pd.DataFrame([AllPlayers.iloc[i]])], ignore_index=True)\n",
    "print(len(LegendsUnder25),len(Legends))"
   ]
  },
  {
   "cell_type": "markdown",
   "metadata": {},
   "source": [
    "### Clustering # 1 Results\n",
    "After our first instance of clustering with k = 2, the legends candidates cluster contained 129 people, with 54 being current players under 25 and 75 players being from the 75th team. This is close to what we want, as our goal is to create a cluster that contains as many 75th team legends as possible while including as few under 25 players as possible to get a concise list. Since 54 under 25 players is a larger list than we'd like, our goal is to increase the number of clusters to create one optimal cluster that contains the best of the best.\n",
    "\n",
    "Additionally, although we are using 10 separate columns for comparison, the weights of each columns are not being weighted how we like. For example, the range of WS/48 is only .376, while the range of Minutes Played is 37.6. Thus, with our current dataset, Minutes played is 100x more impactful for distance because the range is much larger, even though it is not a stat that demonstrates any kind of performance or skill."
   ]
  },
  {
   "cell_type": "code",
   "execution_count": 26,
   "metadata": {},
   "outputs": [
    {
     "name": "stdout",
     "output_type": "stream",
     "text": [
      "-0.126 0.25\n",
      "8.1 45.8\n"
     ]
    }
   ],
   "source": [
    "print(min(AllPlayers['WS/48']),max(AllPlayers['WS/48']))\n",
    "print(min(AllPlayers['MP']),max(AllPlayers['MP']))"
   ]
  },
  {
   "cell_type": "markdown",
   "metadata": {},
   "source": [
    "Thus, we looked at the ranges of all 10 stats and changed the weights of columns to make more important stats more impactful. We decided WS/48 should be much, much more impactful because it is a very telling advanced stat, MP, should be reduced because it does not depict skill, shooting stats should be increased because they show efficiency and currently only range from 0-1, and BLK and STL should be slightly increased because these stats are rare but show skillfulness defensively, which is an important aspect. "
   ]
  },
  {
   "cell_type": "code",
   "execution_count": 27,
   "metadata": {},
   "outputs": [],
   "source": [
    "AllPlayersAdjusted = AllPlayers.copy()\n",
    "AllPlayersAdjusted['WS/48'] = 100 * AllPlayersAdjusted['WS/48']\n",
    "AllPlayersAdjusted['MP'] = .5 * AllPlayersAdjusted['MP']\n",
    "AllPlayersAdjusted['FG%'] = 10 * AllPlayersAdjusted['FG%']\n",
    "AllPlayersAdjusted['3P%'] = 10 * AllPlayersAdjusted['3P%']\n",
    "AllPlayersAdjusted['FT%'] = 10 * AllPlayersAdjusted['FT%']\n",
    "AllPlayersAdjusted['STL'] = 5 * AllPlayersAdjusted['STL']\n",
    "AllPlayersAdjusted['BLK'] = 5 * AllPlayersAdjusted['BLK']"
   ]
  },
  {
   "cell_type": "code",
   "execution_count": 28,
   "metadata": {},
   "outputs": [
    {
     "name": "stdout",
     "output_type": "stream",
     "text": [
      "6 57\n"
     ]
    },
    {
     "data": {
      "text/plain": [
       "Text(0.5, 1.0, 'Clustering with weighted data and k=4')"
      ]
     },
     "execution_count": 28,
     "metadata": {},
     "output_type": "execute_result"
    },
    {
     "data": {
      "image/png": "[encoded data removed]",
      "text/plain": [
       "<Figure size 432x288 with 1 Axes>"
      ]
     },
     "metadata": {
      "needs_background": "light"
     },
     "output_type": "display_data"
    }
   ],
   "source": [
    "data = AllPlayersAdjusted.to_numpy()\n",
    "#for xx in range(100):\n",
    "randpoints = np.random.randint(len(data),size=4)\n",
    "centroid0 = data[300].copy()#261\n",
    "centroid1 = data[316].copy()#1\n",
    "centroid2 = data[29].copy()#22\n",
    "centroid3 = data[210].copy()\n",
    "allCentroids = [centroid0,centroid1,centroid2,centroid3]\n",
    "numIterations = 100\n",
    "clusterIdx = []\n",
    "\n",
    "for z in range(0,numIterations):\n",
    "    clusterIdx = []\n",
    "    for i in data: #Assigning each point to cluster\n",
    "        Idx = 0\n",
    "        lowestDist = np.Inf\n",
    "        dist0 = distance.euclidean([i[0],i[1],i[2],i[3],i[4],i[5],i[6],i[7],i[8],i[9]],\n",
    "                                   [allCentroids[0][0],allCentroids[0][1],allCentroids[0][2],allCentroids[0][3],allCentroids[0][4],\n",
    "                                   allCentroids[0][5],allCentroids[0][6],allCentroids[0][7],allCentroids[0][8],allCentroids[0][9]])\n",
    "        dist1 = distance.euclidean([i[0],i[1],i[2],i[3],i[4],i[5],i[6],i[7],i[8],i[9]],\n",
    "                                   [allCentroids[1][0],allCentroids[1][1],allCentroids[1][2],allCentroids[1][3],allCentroids[1][4],\n",
    "                                   allCentroids[1][5],allCentroids[1][6],allCentroids[1][7],allCentroids[1][8],allCentroids[1][9]])\n",
    "        dist2 = distance.euclidean([i[0],i[1],i[2],i[3],i[4],i[5],i[6],i[7],i[8],i[9]],\n",
    "                                   [allCentroids[2][0],allCentroids[2][1],allCentroids[2][2],allCentroids[2][3],allCentroids[2][4],\n",
    "                                   allCentroids[2][5],allCentroids[2][6],allCentroids[2][7],allCentroids[2][8],allCentroids[2][9]])\n",
    "        dist3 = distance.euclidean([i[0],i[1],i[2],i[3],i[4],i[5],i[6],i[7],i[8],i[9]],\n",
    "                                   [allCentroids[3][0],allCentroids[3][1],allCentroids[3][2],allCentroids[3][3],allCentroids[3][4],\n",
    "                                   allCentroids[3][5],allCentroids[3][6],allCentroids[3][7],allCentroids[3][8],allCentroids[3][9]])\n",
    "        if(dist0 < lowestDist):\n",
    "            lowestDist = dist0\n",
    "            Idx = 0\n",
    "        if(dist1 < lowestDist):\n",
    "            lowestDist = dist1\n",
    "            Idx = 1\n",
    "        if(dist2 < lowestDist):\n",
    "            lowestDist = dist2\n",
    "            Idx = 2\n",
    "        if(dist3 < lowestDist):\n",
    "            lowestDist = dist3\n",
    "            Idx = 3\n",
    "        clusterIdx += [Idx]\n",
    "\n",
    "\n",
    "    for j in range(0,4): #Updating each centroid\n",
    "        Coords0,Coords1,Coords2,Coords3,Coords4,Coords5,Coords6,Coords7,Coords8,Coords9 = [],[],[],[],[],[],[],[],[],[]\n",
    "        for i in range(0,len(data)):\n",
    "            if clusterIdx[i] == j:\n",
    "                Coords0.append(data[i][0])\n",
    "                Coords1.append(data[i][1])\n",
    "                Coords2.append(data[i][2])\n",
    "                Coords3.append(data[i][3])\n",
    "                Coords4.append(data[i][4])\n",
    "                Coords5.append(data[i][5])\n",
    "                Coords6.append(data[i][6])\n",
    "                Coords7.append(data[i][7])\n",
    "                Coords8.append(data[i][8])\n",
    "                Coords9.append(data[i][9])\n",
    "        numPoints = np.sum([clusterIdx[k]==j for k in range(len(clusterIdx))])\n",
    "        allCentroids[j] = [np.sum(Coords0)/numPoints, np.sum(Coords1)/numPoints, np.sum(Coords2)/numPoints, np.sum(Coords4)/numPoints,\n",
    "                          np.sum(Coords4)/numPoints,np.sum(Coords5)/numPoints,np.sum(Coords6)/numPoints,np.sum(Coords7)/numPoints,\n",
    "                          np.sum(Coords8)/numPoints,np.sum(Coords9)/numPoints]\n",
    "\n",
    "\n",
    "cluster0x,cluster0y,cluster1x,cluster1y,cluster2x,cluster2y,cluster3x,cluster3y,centroidsx,centroidsy = [],[],[],[],[],[],[],[],[],[]\n",
    "centroidsx += [allCentroids[0][0],allCentroids[1][0],allCentroids[2][0],allCentroids[3][0]]\n",
    "centroidsy += [(allCentroids[0][8]+allCentroids[0][4]+allCentroids[0][5]),(allCentroids[1][8]+allCentroids[1][4]+allCentroids[1][5]),\n",
    "              (allCentroids[2][8]+allCentroids[2][4]+allCentroids[2][5]),(allCentroids[3][8]+allCentroids[3][4]+allCentroids[3][5]),]\n",
    "for i in range(0,len(clusterIdx)):\n",
    "    if clusterIdx[i] == 0:\n",
    "        cluster0x += [data[i][0]]\n",
    "        cluster0y += [(data[i][8]+data[i][4]+data[i][5])]\n",
    "    if clusterIdx[i] == 1:\n",
    "        cluster1x += [data[i][0]]\n",
    "        cluster1y += [(data[i][8]+data[i][4]+data[i][5])]\n",
    "    if clusterIdx[i] == 2:\n",
    "        cluster2x += [data[i][0]]\n",
    "        cluster2y += [(data[i][8]+data[i][4]+data[i][5])]\n",
    "    if clusterIdx[i] == 3:\n",
    "        cluster3x += [data[i][0]]\n",
    "        cluster3y += [(data[i][8]+data[i][4]+data[i][5])]\n",
    "plt.scatter(cluster1x,cluster1y,color='blue',label=\"Non-Candidate Cluster 1\")\n",
    "plt.scatter(cluster2x,cluster2y,color='blue',label=\"Non-Candidate Cluster 2\")\n",
    "plt.scatter(cluster3x,cluster3y,color='blue',label=\"Non-Candidate Cluster 3\")\n",
    "plt.scatter(cluster0x,cluster0y,color='gold',s=60,label=\"Legends Candidates\")\n",
    "plt.scatter(centroidsx,centroidsy,color='black',label=\"CENTROIDS\",s=150,marker='+')\n",
    "plt.legend()\n",
    "\n",
    "\n",
    "clusterNum = clusterIdx[261]\n",
    "Legends = pd.DataFrame()\n",
    "LegendsUnder25 = pd.DataFrame()\n",
    "for i in range(len(clusterIdx)):\n",
    "    if(clusterIdx[i] == clusterNum):\n",
    "        Legends = pd.concat([Legends, pd.DataFrame([AllPlayers.iloc[i]])], ignore_index=True)\n",
    "        if(i < len(under25_all_stats)):\n",
    "            LegendsUnder25 = pd.concat([LegendsUnder25, pd.DataFrame([AllPlayers.iloc[i]])], ignore_index=True)\n",
    "print(len(LegendsUnder25),len(Legends))\n",
    "plt.xlabel('Minutes Played')\n",
    "plt.ylabel('Offensive Volume')\n",
    "plt.title('Clustering with weighted data and k=4')"
   ]
  },
  {
   "cell_type": "code",
   "execution_count": 29,
   "metadata": {},
   "outputs": [
    {
     "name": "stdout",
     "output_type": "stream",
     "text": [
      "Legend Candidates Under 25: 6 Total Players in Cluster: 57 \n",
      "\n",
      "0          John Collins\n",
      "1              Luka Don\n",
      "2           Nikola Joki\n",
      "3        Kristaps Porzi\n",
      "4    Karl-Anthony Towns\n",
      "5       Zion Williamson\n",
      "Name: Player, dtype: object\n"
     ]
    }
   ],
   "source": [
    "Legends = pd.DataFrame()\n",
    "LegendsUnder25 = pd.DataFrame()\n",
    "for i in range(len(clusterIdx)):\n",
    "    if(clusterIdx[i] == 0):\n",
    "        Legends = pd.concat([Legends, pd.DataFrame([AllPlayers.iloc[i]])], ignore_index=True)\n",
    "        if(i < len(under25_all_stats)):\n",
    "            LegendsUnder25 = pd.concat([LegendsUnder25, pd.DataFrame([AllPlayers.iloc[i]])], ignore_index=True)\n",
    "print('Legend Candidates Under 25:',len(LegendsUnder25),'Total Players in Cluster:',len(Legends),'\\n')\n",
    "print(LegendsUnder25['Player'])"
   ]
  },
  {
   "cell_type": "markdown",
   "metadata": {},
   "source": [
    "### Clustering # 2 Results\n",
    "\n",
    "After changing our number of clusters from 2 to 4, and using our adjusted weighted stats, we can see that the Legend Candidate Cluster contained 57 total players with 6 of them being under 25. This is an ideal ratio, as our goal was to find a cluster with as many 75th Team players as possible while finding a small list of players under 25 who belong in this category. Thus, we are left with 6 players under 25, John Collins, Luka Dončić, Nikola Jokić, Kristaps Porziņģis, Karl-Anthony Towns, and Zion Williamson\n",
    "\n",
    "A k value of 4 was much more appropriate, as this way we can get an upper cluster of just the best players our of both sets. The remaining 3 clusters have much less importance, and while we could likely rank these remaining clusters, they have no value for us. \n"
   ]
  },
  {
   "cell_type": "markdown",
   "metadata": {},
   "source": [
    "### Plotting The 6 Players\n",
    "\n",
    "The above plots were all made using Offensive load vs Minutes Per Game. While these plots are useful to see basic clustering, they only use 4 out of the 10 columns to calculate the clusters. To better show how these 6 players stack up against players on the 75th team, we wanted to construct more plots using different axis."
   ]
  },
  {
   "cell_type": "code",
   "execution_count": 30,
   "metadata": {},
   "outputs": [],
   "source": [
    "labeled_legends = ['Wilt Chamberlain', 'Michael Jordan', 'LeBron James','Kareem Abdul-Jabbar','Magic Johnson']\n",
    "colors = ['darkorange','black','blue','m','darkgreen']"
   ]
  },
  {
   "cell_type": "code",
   "execution_count": 31,
   "metadata": {},
   "outputs": [
    {
     "data": {
      "text/plain": [
       "Text(0, 0.5, 'Offensive volume')"
      ]
     },
     "execution_count": 31,
     "metadata": {},
     "output_type": "execute_result"
    },
    {
     "data": {
      "image/png": "[encoded data removed]",
      "text/plain": [
       "<Figure size 432x288 with 1 Axes>"
      ]
     },
     "metadata": {
      "needs_background": "light"
     },
     "output_type": "display_data"
    }
   ],
   "source": [
    "y75 = data75_complete['PTS']+data75_complete['AST']+data75_complete['TRB']\n",
    "x75 = data75_complete['MP']\n",
    "x25 = LegendsUnder25['MP']\n",
    "y25 = LegendsUnder25['PTS']+LegendsUnder25['AST']+LegendsUnder25['TRB']\n",
    "\n",
    "\n",
    "plt.scatter(x75,y75,c='lightgrey')\n",
    "plt.scatter(x25,y25,s=75,c='red')\n",
    "\n",
    "for i in range(len(labeled_legends)):\n",
    "    player = labeled_legends[i]\n",
    "    curr = data75_complete[data75_complete['Player']==player]\n",
    "    plt.scatter(curr['MP'], curr['PTS']+curr['AST']+curr['TRB'], color = colors[i], label = player)\n",
    "    \n",
    "\n",
    "#plt.scatter(x75,y75,c='grey')\n",
    "#plt.scatter(x25,y25,s=75,c='red')\n",
    "plt.legend()\n",
    "plt.xlabel('Minutes Played')\n",
    "plt.ylabel('Offensive volume')"
   ]
  },
  {
   "cell_type": "markdown",
   "metadata": {},
   "source": [
    "Here and the following plots are the top 6 young NBA players we found vs all legends (and well known legends are colorized). The plot above is offensive volume vs minutes played. Offensive volume is calculated as (PTS+AST+TRB)"
   ]
  },
  {
   "cell_type": "code",
   "execution_count": 32,
   "metadata": {},
   "outputs": [
    {
     "data": {
      "text/plain": [
       "Text(0, 0.5, 'Defensive Volume')"
      ]
     },
     "execution_count": 32,
     "metadata": {},
     "output_type": "execute_result"
    },
    {
     "data": {
      "image/png": "[encoded data removed]",
      "text/plain": [
       "<Figure size 432x288 with 1 Axes>"
      ]
     },
     "metadata": {
      "needs_background": "light"
     },
     "output_type": "display_data"
    }
   ],
   "source": [
    "y75 = data75_complete['STL']+data75_complete['BLK']\n",
    "x75 = data75_complete['MP']\n",
    "x25 = LegendsUnder25['MP']\n",
    "y25 = LegendsUnder25['STL']+LegendsUnder25['BLK']\n",
    "\n",
    "plt.scatter(x75,y75,c='lightgrey')\n",
    "plt.scatter(x25,y25,s=75,c='red')\n",
    "\n",
    "for i in range(len(labeled_legends)):\n",
    "    player = labeled_legends[i]\n",
    "    curr = data75_complete[data75_complete['Player']==player]\n",
    "    plt.scatter(curr['MP'], curr['STL']+curr['BLK'], color = colors[i], label = player)\n",
    "    \n",
    "\n",
    "#plt.scatter(x75,y75,c='grey')\n",
    "#plt.scatter(x25,y25,s=75,c='red')\n",
    "plt.legend(loc = 2)\n",
    "plt.xlabel('Minutes Played')\n",
    "plt.ylabel('Defensive Volume')"
   ]
  },
  {
   "cell_type": "markdown",
   "metadata": {},
   "source": [
    "The figure above plots defensive volume vs minutes played. Defensive volume is calculated as (STL+BLK)"
   ]
  },
  {
   "cell_type": "code",
   "execution_count": 33,
   "metadata": {},
   "outputs": [
    {
     "data": {
      "text/plain": [
       "Index(['Player', 'From', 'To', 'G', 'MP', 'PTS', 'TRB', 'AST', 'STL', 'BLK',\n",
       "       'FG%', '3P%', 'FT%', 'WS', 'WS/48'],\n",
       "      dtype='object')"
      ]
     },
     "execution_count": 33,
     "metadata": {},
     "output_type": "execute_result"
    }
   ],
   "source": [
    "data75.columns"
   ]
  },
  {
   "cell_type": "code",
   "execution_count": 34,
   "metadata": {},
   "outputs": [
    {
     "data": {
      "text/plain": [
       "Text(0, 0.5, 'Efficiency')"
      ]
     },
     "execution_count": 34,
     "metadata": {},
     "output_type": "execute_result"
    },
    {
     "data": {
      "image/png": "[encoded data removed]",
      "text/plain": [
       "<Figure size 432x288 with 1 Axes>"
      ]
     },
     "metadata": {
      "needs_background": "light"
     },
     "output_type": "display_data"
    }
   ],
   "source": [
    "y75 = data75_complete['FG%']+data75_complete['3P%']+data75_complete['FT%']\n",
    "x75 = data75_complete['WS/48']\n",
    "x25 = LegendsUnder25['WS/48']\n",
    "y25 = LegendsUnder25['FG%']+LegendsUnder25['3P%']+LegendsUnder25['FT%']\n",
    "\n",
    "plt.scatter(x75,y75,c='lightgrey')\n",
    "plt.scatter(x25,y25,s=75,c='red')\n",
    "\n",
    "for i in range(len(labeled_legends)):\n",
    "    player = labeled_legends[i]\n",
    "    curr = data75_complete[data75_complete['Player']==player]\n",
    "    plt.scatter(curr['WS/48'], curr['FG%']+curr['3P%']+curr['FT%'], color = colors[i], label = player)\n",
    "    \n",
    "\n",
    "#plt.scatter(x75,y75,c='grey')\n",
    "#plt.scatter(x25,y25,s=75,c='red')\n",
    "plt.legend(loc = 2)\n",
    "plt.xlabel('WS/48')\n",
    "plt.ylabel('Efficiency')"
   ]
  },
  {
   "cell_type": "markdown",
   "metadata": {},
   "source": [
    "The figure above plots player efficiency vs win shares per 48. Efficiency is calculated as (FG%+3P%+FT%)"
   ]
  },
  {
   "cell_type": "code",
   "execution_count": 35,
   "metadata": {},
   "outputs": [
    {
     "data": {
      "text/plain": [
       "Text(0, 0.5, 'Win Shares per 48')"
      ]
     },
     "execution_count": 35,
     "metadata": {},
     "output_type": "execute_result"
    },
    {
     "data": {
      "image/png": "[encoded data removed]",
      "text/plain": [
       "<Figure size 432x288 with 1 Axes>"
      ]
     },
     "metadata": {
      "needs_background": "light"
     },
     "output_type": "display_data"
    }
   ],
   "source": [
    "y75 = data75_complete['WS/48']\n",
    "x75 = data75_complete['PTS']+data75_complete['AST']+data75_complete['TRB']\n",
    "x25 = LegendsUnder25['PTS']+LegendsUnder25['AST']+LegendsUnder25['TRB']\n",
    "y25 = LegendsUnder25['WS/48']\n",
    "\n",
    "plt.scatter(x75,y75,c='lightgrey')\n",
    "plt.scatter(x25,y25,s=75,c='red')\n",
    "\n",
    "for i in range(len(labeled_legends)):\n",
    "    player = labeled_legends[i]\n",
    "    curr = data75_complete[data75_complete['Player']==player]\n",
    "    plt.scatter(curr['PTS']+curr['AST']+curr['TRB'], curr['WS/48'], color = colors[i], label = player)\n",
    "    \n",
    "\n",
    "#plt.scatter(x75,y75,c='grey')\n",
    "#plt.scatter(x25,y25,s=75,c='red')\n",
    "plt.legend(loc = 2)\n",
    "plt.xlabel('Offensive Volume')\n",
    "plt.ylabel('Win Shares per 48')"
   ]
  },
  {
   "cell_type": "code",
   "execution_count": 36,
   "metadata": {},
   "outputs": [
    {
     "data": {
      "text/plain": [
       "Text(0, 0.5, 'Win Shares per 48')"
      ]
     },
     "execution_count": 36,
     "metadata": {},
     "output_type": "execute_result"
    },
    {
     "data": {
      "image/png": "[encoded data removed]",
      "text/plain": [
       "<Figure size 432x288 with 1 Axes>"
      ]
     },
     "metadata": {
      "needs_background": "light"
     },
     "output_type": "display_data"
    }
   ],
   "source": [
    "y75 = data75_complete['WS/48']\n",
    "x75 = data75_complete['STL']+data75_complete['BLK']\n",
    "x25 = LegendsUnder25['STL']+LegendsUnder25['BLK']\n",
    "y25 = LegendsUnder25['WS/48']\n",
    "\n",
    "plt.scatter(x75,y75,c='lightgrey')\n",
    "plt.scatter(x25,y25,s=75,c='red')\n",
    "\n",
    "for i in range(len(labeled_legends)):\n",
    "    player = labeled_legends[i]\n",
    "\n",
    "    curr = data75_complete[data75_complete['Player']==player]\n",
    "    plt.scatter(curr['STL']+curr['BLK'], curr['WS/48'], color = colors[i], label = player)\n",
    "    \n",
    "\n",
    "#plt.scatter(x75,y75,c='grey')\n",
    "#plt.scatter(x25,y25,s=75,c='red')\n",
    "plt.legend(loc = 4)\n",
    "plt.xlabel('Defensive Volume')\n",
    "plt.ylabel('Win Shares per 48')"
   ]
  },
  {
   "cell_type": "code",
   "execution_count": 37,
   "metadata": {},
   "outputs": [
    {
     "data": {
      "text/html": [
       "<div>\n",
       "<style scoped>\n",
       "    .dataframe tbody tr th:only-of-type {\n",
       "        vertical-align: middle;\n",
       "    }\n",
       "\n",
       "    .dataframe tbody tr th {\n",
       "        vertical-align: top;\n",
       "    }\n",
       "\n",
       "    .dataframe thead th {\n",
       "        text-align: right;\n",
       "    }\n",
       "</style>\n",
       "<table border=\"1\" class=\"dataframe\">\n",
       "  <thead>\n",
       "    <tr style=\"text-align: right;\">\n",
       "      <th></th>\n",
       "      <th>Player</th>\n",
       "      <th>PER</th>\n",
       "    </tr>\n",
       "  </thead>\n",
       "  <tbody>\n",
       "    <tr>\n",
       "      <th>0</th>\n",
       "      <td>Nikola Joki</td>\n",
       "      <td>31.3</td>\n",
       "    </tr>\n",
       "    <tr>\n",
       "      <th>1</th>\n",
       "      <td>Zion Williamson</td>\n",
       "      <td>27.1</td>\n",
       "    </tr>\n",
       "    <tr>\n",
       "      <th>2</th>\n",
       "      <td>Luka Don</td>\n",
       "      <td>25.3</td>\n",
       "    </tr>\n",
       "    <tr>\n",
       "      <th>3</th>\n",
       "      <td>Karl-Anthony Towns</td>\n",
       "      <td>23.1</td>\n",
       "    </tr>\n",
       "    <tr>\n",
       "      <th>4</th>\n",
       "      <td>Kristaps Porzi</td>\n",
       "      <td>21.3</td>\n",
       "    </tr>\n",
       "    <tr>\n",
       "      <th>5</th>\n",
       "      <td>John Collins</td>\n",
       "      <td>20.6</td>\n",
       "    </tr>\n",
       "  </tbody>\n",
       "</table>\n",
       "</div>"
      ],
      "text/plain": [
       "               Player   PER\n",
       "0         Nikola Joki  31.3\n",
       "1     Zion Williamson  27.1\n",
       "2            Luka Don  25.3\n",
       "3  Karl-Anthony Towns  23.1\n",
       "4      Kristaps Porzi  21.3\n",
       "5        John Collins  20.6"
      ]
     },
     "execution_count": 37,
     "metadata": {},
     "output_type": "execute_result"
    }
   ],
   "source": [
    "PER = data2021Advanced.copy()\n",
    "PER['Player'] = PER['Player'].str.replace(r'\\\\.*', '')\n",
    "PERPlayers = ['John Collins']\n",
    "John = PER[PER.Player == 'John Collins']\n",
    "Luka = PER[PER.Player == 'Luka Don']\n",
    "Nikola = PER[PER.Player == 'Nikola Joki']\n",
    "Kristaps = PER[PER.Player == 'Kristaps Porzi']\n",
    "Karl = PER[PER.Player == 'Karl-Anthony Towns']\n",
    "PER = PER[PER.Player == 'Zion Williamson']\n",
    "PER = pd.concat([Nikola, PER, Luka,Karl,Kristaps,John], ignore_index=True)\n",
    "PER = PER[['Player', 'PER']]\n",
    "PER.head(10)"
   ]
  },
  {
   "cell_type": "markdown",
   "metadata": {},
   "source": [
    "### Who is the BEST Player\n",
    "\n",
    "This list of six players answers part of our question, of which players belong with the greats. But we also wanted to get an answer of which one player is best, and which is most likely to be considered the next GOAT.\n",
    "\n",
    "We used PER (Player Efficiency Rating) to measure this stat, as this shows a rating of a player's per-minute productivity. This is an excellent advanced stat, as it's per-minute and is pace-adjusted, meaning it normalizes lots of factors between players to create a very fair statistic. Because this stat is extremely powerful, we thought it was a very good way to rank players. "
   ]
  },
  {
   "cell_type": "code",
   "execution_count": null,
   "metadata": {},
   "outputs": [],
   "source": []
  }
 ],
 "metadata": {
  "kernelspec": {
   "display_name": "Python 3",
   "language": "python",
   "name": "python3"
  },
  "language_info": {
   "codemirror_mode": {
    "name": "ipython",
    "version": 3
   },
   "file_extension": ".py",
   "mimetype": "text/x-python",
   "name": "python",
   "nbconvert_exporter": "python",
   "pygments_lexer": "ipython3",
   "version": "3.8.5"
  }
 },
 "nbformat": 4,
 "nbformat_minor": 4
}
